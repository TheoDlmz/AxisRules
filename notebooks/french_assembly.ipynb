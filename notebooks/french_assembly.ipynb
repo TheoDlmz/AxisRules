{
 "cells": [
  {
   "cell_type": "markdown",
   "metadata": {},
   "source": [
    " # Experiments - The axis of the French National Assembly\n",
    "\n",
    " In this notebook we investigate the ideological axis of the parties inside of the French National Assembly. As a reminder, the different groups of the assembly are the following (taken from their seatwise left-right order inside of the assembly):\n",
    "\n",
    "* GDR : \"Gauche Démocrate et Républicaine\", Communist\n",
    "* LFI : \"La France Insoumise\", Left\n",
    "* Ecolo : Ecologists\n",
    "* PS : \"Parti socialiste\", Socialist\n",
    "\n",
    "These first 4 groups form the left coalition, called \"NUPES\" (Nouvelle Union Populaire Ecologique et Sociale).\n",
    "\n",
    "* Dem : \"Démocrates\", center\n",
    "* RE : \"Renaissance\", center-right, government party\n",
    "* HOR : \"Horizon\", right\n",
    "\n",
    "These 3 groups from the government coalition.\n",
    "\n",
    "* LR : \"Les Républicains\", right\n",
    "* RN : \"Rassemblement National\", Far-right\n",
    "\n",
    "Finally, there is another group, with deputies seated around everywhere, as they claim to be the groups for independent deputies, and regionalist:\n",
    "\n",
    "* LIOT : \"Libérté, Indépendant, Outre-mer et Térritoires\"\n",
    "\n",
    "We want to investigate how would be ordered these parties on an ideological 1D axis. We also investigate if a circle (a cycle) would represent better the parliament than an axis. \n",
    "\n",
    "I decided to focus on political groups instead of individual deputies, for several reason : (1) most deputies miss most votes. (2) the complexity being exponential in the number of candidates on the axis, this would not be reasonable to consider the 577 deputies.\n",
    "\n",
    "For this, we use our *axis* library"
   ]
  },
  {
   "cell_type": "code",
   "execution_count": 2,
   "metadata": {},
   "outputs": [],
   "source": [
    "import axisrules as axis"
   ]
  },
  {
   "cell_type": "markdown",
   "metadata": {},
   "source": [
    "We will also need the following classical libraries"
   ]
  },
  {
   "cell_type": "code",
   "execution_count": 3,
   "metadata": {},
   "outputs": [],
   "source": [
    "import pandas as pd \n",
    "import numpy as np \n",
    "import matplotlib.pyplot as plt"
   ]
  },
  {
   "cell_type": "markdown",
   "metadata": {},
   "source": [
    "In this notebook, we will use the data from the votes of the deputies taken from [data.assemblee-nationale.fr](https://data.assemblee-nationale.fr/travaux-parlementaires/votes). This dataset contains the votes of all deputies during the 16th legislature (June 2022 - July 2023). There are 3 kinds of vote : \n",
    "\n",
    "* Solannel votes (SPS), which are very important votes on major laws.\n",
    "* Trust vote to the governement, which we ignore here because these are very specifics vote\n",
    "* Ordinary votes (SPO), which happens far more often than SPS. They can be used for minor laws, for part of laws, or more often for amendments on laws.\n",
    "\n",
    "I have preprocessed those files to obtain approval votes. For each group and each vote I computed the most important position. If there are more \"in favor\" than \"against\", it is counted as approved (+1), of there are less, as disapproved (-1), and if the values are the same, as abstaining (0). Note that the main position of deputies inside a group could be abstention but the group could still count as approved if more people voted in favor than against."
   ]
  },
  {
   "cell_type": "code",
   "execution_count": 4,
   "metadata": {},
   "outputs": [],
   "source": [
    "# load files with pandas \n",
    "df_spo = pd.read_csv('data/approval_assembly_spo.csv')\n",
    "parties = list(df_spo.columns)\n",
    "votes_spo = df_spo.to_numpy()\n",
    "votes_sps = pd.read_csv('data/approval_assembly_sps.csv').to_numpy()\n",
    "votes_spo = np.concatenate([votes_spo, votes_sps])"
   ]
  },
  {
   "cell_type": "markdown",
   "metadata": {},
   "source": [
    "For now, we will assume that if a group abstain from the vote, they disapprove the vote.\n",
    "\n",
    "As we see below, there a 23 solannels votes and 2500 votes in total (solannels + ordinary)."
   ]
  },
  {
   "cell_type": "code",
   "execution_count": 5,
   "metadata": {},
   "outputs": [
    {
     "name": "stdout",
     "output_type": "stream",
     "text": [
      "23\n",
      "2500\n"
     ]
    }
   ],
   "source": [
    "votes_spo = np.maximum(votes_spo, 0)\n",
    "votes_sps = np.maximum(votes_sps, 0)\n",
    "print(len(votes_sps))\n",
    "print(len(votes_spo))"
   ]
  },
  {
   "cell_type": "markdown",
   "metadata": {},
   "source": [
    "If we look at the distribution of the number of group voting in favor, we obtain the following distribution, centered around 4-5, which changes from approval ballots of voters in most election, which are often centered around 2-3. Note that here the \"voters\" are the votes (the law and amendements), and the \"candidates\" are the political groups."
   ]
  },
  {
   "cell_type": "code",
   "execution_count": 6,
   "metadata": {},
   "outputs": [
    {
     "data": {
      "image/png": "[encoded data removed]",
      "text/plain": [
       "<Figure size 800x400 with 1 Axes>"
      ]
     },
     "metadata": {},
     "output_type": "display_data"
    }
   ],
   "source": [
    "nb_approved = [len([ballot for ballot in votes_spo if sum(ballot) == j]) for j in range(0,11)]\n",
    "plt.figure(figsize=(8,4))\n",
    "plt.bar(range(0,11), nb_approved, color=\"k\", alpha=0.8)\n",
    "plt.xlabel(\"Number of 'approved' groups\")\n",
    "plt.ylabel(\"Number of votes\")\n",
    "plt.savefig(\"images/french_assembly_1.png\")\n",
    "plt.show()"
   ]
  },
  {
   "cell_type": "markdown",
   "metadata": {},
   "source": [
    "Let's directly start, and look at which axis we obtain with these data. Let's start with the \"SPS\" data. Unfortunately, this dataset being very small (23 voters), a lot of axis obtain the same score (e.g. for voter deletion, the minimal cost is 1, obtained by 12 different axis). However, it seems that the axis presented in the beginning (based on the actual seat position) is one of these resulting axis."
   ]
  },
  {
   "cell_type": "code",
   "execution_count": 7,
   "metadata": {},
   "outputs": [
    {
     "name": "stdout",
     "output_type": "stream",
     "text": [
      "Voter Deletion\n",
      "Number of optimal axis : 12\n",
      "Example : LFI < GDR < Écolo < SOC < LIOT < RE < Dem < HOR < LR < RN\n",
      "Score of this axis : 1.0\n",
      "\n",
      "\n",
      "Minimal Flips\n",
      "Number of optimal axis : 12\n",
      "Example : LFI < GDR < Écolo < SOC < LIOT < RE < Dem < HOR < LR < RN\n",
      "Score of this axis : 1.0\n",
      "\n",
      "\n",
      "Ballot Completion\n",
      "Number of optimal axis : 12\n",
      "Example : LFI < GDR < Écolo < SOC < LIOT < RE < Dem < HOR < LR < RN\n",
      "Score of this axis : 1.0\n",
      "\n",
      "\n",
      "Minimal Swaps\n",
      "Number of optimal axis : 12\n",
      "Example : LFI < GDR < Écolo < SOC < LIOT < RE < Dem < HOR < LR < RN\n",
      "Score of this axis : 1.0\n",
      "\n",
      "\n",
      "Forbidden Triples\n",
      "Number of optimal axis : 12\n",
      "Example : LFI < GDR < Écolo < SOC < LIOT < RE < Dem < HOR < LR < RN\n",
      "Score of this axis : 6.0\n",
      "\n",
      "\n"
     ]
    }
   ],
   "source": [
    "axis_rules = [axis.VoterDeletion, axis.MinimalFlips, axis.BallotCompletion, axis.MinimalSwaps, axis.ForbiddenTriples]\n",
    "\n",
    "for rule in axis_rules:\n",
    "    print(rule.name)\n",
    "    rule_instance = rule(votes_sps)\n",
    "    res = rule_instance.bruteforce()\n",
    "    print(\"Number of optimal axis :\", len(res))\n",
    "    print(\"Example :\", axis.get_axis(res[0][0], parties))\n",
    "    axis_score = rule_instance.get_score(res[0][0])\n",
    "    print(\"Score of this axis :\", axis_score)\n",
    "    print(\"\\n\")"
   ]
  },
  {
   "cell_type": "markdown",
   "metadata": {},
   "source": [
    "Let's now look at the SPO dataset, which contains 2500 votes. We obtain the following axis. This time, there is only one optimal axis for each rule. We note several things:\n",
    "\n",
    "* The different rules lead to very similar axis. The only thing that vary are the order of candidates inside of coalition and the position of the group of independents LIOT.\n",
    "\n",
    "* The resulting axis is not the classical left-right axis, but more a government-opposition axis. On one extreme we find the groups of the government coalition, on the other extreme the groups of the left coalition. In between, we see groups from the right and far-right (LR and RN), who vote sometimes with the governement coalition, and sometimes with the left coalition. It is very rare that the left coalition vote together with the governement coalition. This is also due to the fact the left coalition is at the origin of a lot of amendment, and thus of votes. On these amendement, they vote in favor and everyone else vote against."
   ]
  },
  {
   "cell_type": "code",
   "execution_count": 7,
   "metadata": {},
   "outputs": [
    {
     "name": "stdout",
     "output_type": "stream",
     "text": [
      "Voter Deletion\n",
      "RE < Dem < HOR < LR < RN < SOC < Écolo < LFI < GDR < LIOT\n",
      "Score of this axis : 910.0\n",
      "\n",
      "\n",
      "Minimal Flips\n",
      "RE < HOR < Dem < LR < RN < SOC < Écolo < LFI < GDR < LIOT\n",
      "Score of this axis : 1424.0\n",
      "\n",
      "\n",
      "Ballot Completion\n",
      "GDR < Écolo < LFI < SOC < LIOT < RN < LR < Dem < HOR < RE\n",
      "Score of this axis : 1759.0\n",
      "\n",
      "\n",
      "Minimal Swaps\n",
      "GDR < LFI < Écolo < SOC < LIOT < RN < LR < Dem < HOR < RE\n",
      "Score of this axis : 2770.0\n",
      "\n",
      "\n",
      "Forbidden Triples\n",
      "GDR < LFI < Écolo < SOC < LIOT < RN < LR < Dem < HOR < RE\n",
      "Score of this axis : 10809.0\n",
      "\n",
      "\n"
     ]
    }
   ],
   "source": [
    "axis_rules = [axis.VoterDeletion, axis.MinimalFlips, axis.BallotCompletion, axis.MinimalSwaps, axis.ForbiddenTriples]\n",
    "\n",
    "for rule in axis_rules:\n",
    "    print(rule.name)\n",
    "    rule_instance = rule(votes_spo)\n",
    "    res = rule_instance.bruteforce()\n",
    "    axis.print_axis(res[0][0], parties)\n",
    "    axis_score = rule_instance.get_score(res[0][0])\n",
    "    print(\"Score of this axis :\", axis_score)\n",
    "    print(\"\\n\")"
   ]
  },
  {
   "cell_type": "code",
   "execution_count": 10,
   "metadata": {},
   "outputs": [
    {
     "name": "stdout",
     "output_type": "stream",
     "text": [
      "GDR < LFI < Écolo < SOC < Dem < RE < HOR < LR < RN < LIOT\n"
     ]
    }
   ],
   "source": [
    "axis.print_axis([8,2,7,5,4,0,6,3,1], parties)"
   ]
  },
  {
   "cell_type": "code",
   "execution_count": 12,
   "metadata": {},
   "outputs": [
    {
     "name": "stdout",
     "output_type": "stream",
     "text": [
      "Voter Deletion\n",
      "Score of this axis : 1134.0\n",
      "\n",
      "\n",
      "Minimal Flips\n",
      "Score of this axis : 2210.0\n",
      "\n",
      "\n",
      "Ballot Completion\n",
      "Score of this axis : 3637.0\n",
      "\n",
      "\n",
      "Minimal Swaps\n",
      "Score of this axis : 4830.0\n",
      "\n",
      "\n",
      "Forbidden Triples\n",
      "Score of this axis : 18486.0\n",
      "\n",
      "\n"
     ]
    }
   ],
   "source": [
    "axis_rules = [axis.VoterDeletion, axis.MinimalFlips, axis.BallotCompletion, axis.MinimalSwaps, axis.ForbiddenTriples]\n",
    "ideal = [8,2,7,5,4,0,6,3,1]\n",
    "for rule in axis_rules:\n",
    "    print(rule.name)\n",
    "    rule_instance = rule(votes_spo)\n",
    "    best_score = 100000000000000\n",
    "    for i in range(10):\n",
    "        curraxis = ideal[:i] + [9] + ideal[i:]\n",
    "        axis_score = rule_instance.get_score(curraxis)\n",
    "        best_score = min(best_score, axis_score)\n",
    "    print(\"Score of this axis :\", best_score)\n",
    "    print(\"\\n\")"
   ]
  },
  {
   "cell_type": "markdown",
   "metadata": {},
   "source": [
    "If we look in more details, we have the following:\n",
    "\n",
    "* The optimal axis for VD fits 63.6% of the votes\n",
    "* For MF, we need to flip 0.56 parties per vote to obtain a linear profile\n",
    "* For BC, we need 0.7 additional parties per vote to obtain a linear profile\n",
    "* for MS, we need to swap 1.1 adjacent parties to obtain a linear profile\n",
    "* The optimal axis for FT contains 4.3 forbidden triples per votes.\n",
    "\n",
    "We often hear the nowadays parties form more a circle than an axis, the far-left and far-right joining. To get a real idea of the veradicity of this, a better way would be to look at the co-approval matrix. But for now, let's try our circular version of VD and BC, and see if they enable to find a better axis (cycle).\n",
    "\n",
    "Of course, the cost will be lower because the optimal axis for VD already has a lower or equal cost for VD-circular.\n"
   ]
  },
  {
   "cell_type": "code",
   "execution_count": 9,
   "metadata": {},
   "outputs": [
    {
     "name": "stdout",
     "output_type": "stream",
     "text": [
      "Voter Deletion Circular\n",
      "Number of optimal axis : 2\n",
      "Example :\n",
      "GDR < LFI < Écolo < SOC < RN < LR < HOR < RE < Dem < LIOT\n",
      "Score of this axis : 667.0\n",
      "\n",
      "\n",
      "Ballot Completion Circular\n",
      "Number of optimal axis : 2\n",
      "Example :\n",
      "GDR < LIOT < RN < LR < HOR < RE < Dem < SOC < Écolo < LFI\n",
      "Score of this axis : 1004.0\n",
      "\n",
      "\n"
     ]
    }
   ],
   "source": [
    "axis_rules = [axis.VoterDeletionCircular, axis.BallotCompletionCircular]\n",
    "\n",
    "for rule in axis_rules:\n",
    "    print(rule.name)\n",
    "    rule_instance = rule(votes_spo)\n",
    "    res = rule_instance.bruteforce()\n",
    "    print(\"Number of optimal axis :\", len(res))\n",
    "    print(\"Example :\")\n",
    "    axis.print_axis(res[0][0], parties)\n",
    "    axis_score = rule_instance.get_score(res[0][0])\n",
    "    print(\"Score of this axis :\", axis_score)\n",
    "    print(\"\\n\")"
   ]
  },
  {
   "cell_type": "markdown",
   "metadata": {},
   "source": [
    "We observe that the optimal axis for VD fits 73.3% (9.7% more than before) and the BC needs 0.4 additional candidates (0.3 less than before, which is 40% less.)\n",
    "\n",
    "This time, we see 4 poles :\n",
    "\n",
    "* Government coalition (Dem closer to left, HOR closer to right)\n",
    "* Left coalition (Socialists closer to government, GDR closer to independents)\n",
    "* Independents\n",
    "* The rights-wing parties (LR being closer to the governement, RN being closer to the opposition)\n",
    "\n",
    "It would be interesting to look at the most frequent alliances in votes:"
   ]
  },
  {
   "cell_type": "code",
   "execution_count": 10,
   "metadata": {},
   "outputs": [
    {
     "name": "stdout",
     "output_type": "stream",
     "text": [
      "The 20 most frequent alliances\n",
      "266.0 votes for LFI, SOC, Écolo, GDR\n",
      "141.0 votes for RN, LR\n",
      "119.0 votes for LFI, SOC, Écolo, GDR, LIOT\n",
      "119.0 votes for RN, LFI, SOC, Écolo, GDR, LIOT\n",
      "85.0 votes for RN, LFI, LR, SOC, Écolo, GDR, LIOT\n",
      "76.0 votes for RN, LFI, SOC, Écolo, GDR\n",
      "70.0 votes for LFI, SOC, Écolo\n",
      "51.0 votes for RE, RN, LR, Dem, HOR, LIOT\n",
      "41.0 votes for RE, RN, LR, Dem, HOR\n",
      "37.0 votes for RE, Dem, HOR\n",
      "34.0 votes for RN, LR, LIOT\n",
      "30.0 votes for LFI, Écolo, GDR\n",
      "28.0 votes for RE, RN, LR, Dem, SOC, HOR\n",
      "27.0 votes for LFI, Écolo\n",
      "26.0 votes for RE, LR, Dem, HOR\n",
      "25.0 votes for RE, LR, Dem, HOR, LIOT\n",
      "24.0 votes for RN, LFI, LR, SOC, Écolo, GDR\n",
      "22.0 votes for RE, RN, LR, Dem, SOC, HOR, LIOT\n",
      "22.0 votes for RN, LIOT\n",
      "20.0 votes for RN, LFI, SOC, Écolo\n"
     ]
    }
   ],
   "source": [
    "matrix = axis.compute_weighted_matrix(votes_spo, 10)\n",
    "print(\"The 20 most frequent alliances\")\n",
    "for i in range(20):\n",
    "    n = matrix[i][-1]\n",
    "    list_approving = \", \".join([parties[j] for j in range(10) if matrix[i][j] != 0])\n",
    "    print(f\"{n} votes for {list_approving}\")"
   ]
  },
  {
   "cell_type": "markdown",
   "metadata": {},
   "source": [
    "Without much surprise, the left coalition comes top (it is not surpising because they are the one that create the most votes for their amendments). More surprisingly, the second most frequent coalition is RN and LR, which tends to show that the right and far-right are getting closer. The third group is the left coalition with the independent, the fourth is the left coalition with the independents and the far-right (which are often considered to be all the parties of the opposition, LR being very close to the government). Finally, the full opposition is the fifth more frequent alliance.\n",
    "\n",
    "However, there is at least one flaw in this analysis. I noticed it as I was somewhat quite surprised that the independents (LIOT) where the extreme-opposition for most axis rules. If we look at the actual votes of this group, we notice that they very often abstain from the vote, and this is counted as disapproval in the analysis above. It could make sense, as abstaining does not gives votes in favor, however the rule is that there should be more votes in favor than against for an amendment or a law to be accepted. Thus, abstaining is not exactly the same as disapproving.\n",
    "\n",
    "Below, the figure show the approval rate of the different parties. For SPS, all laws come from the government so the approval rate of the government coalition is 100%, and lower for the opposition (0% for LFI). For SPO, it is more evenly distributed, and the approval rate of the opposition is higher than the one of the government coalition."
   ]
  },
  {
   "cell_type": "code",
   "execution_count": 13,
   "metadata": {},
   "outputs": [
    {
     "data": {
      "image/png": "[encoded data removed]",
      "text/plain": [
       "<Figure size 1000x500 with 1 Axes>"
      ]
     },
     "metadata": {},
     "output_type": "display_data"
    }
   ],
   "source": [
    "number_approvals_spo = 100*votes_spo.sum(0)/len(votes_spo)\n",
    "number_approvals_sps = 100*votes_sps.sum(0)/len(votes_sps)\n",
    "\n",
    "plt.figure(figsize=(10,5))\n",
    "plt.bar([x-0.2 for x in range(10)], number_approvals_spo, label='SPO', width=0.4)\n",
    "plt.bar([x+0.2 for x in range(10)], number_approvals_sps, label='SPS', width=0.4)\n",
    "plt.legend()\n",
    "plt.xticks(range(10), parties)\n",
    "plt.ylim(0,100)\n",
    "plt.ylabel('% of approvals')\n",
    "plt.title('French Assembly')\n",
    "plt.show()"
   ]
  },
  {
   "cell_type": "markdown",
   "metadata": {},
   "source": [
    "Below, the actual distribution of votes in favor/abstaining/against for each parties for SPO and SPS"
   ]
  },
  {
   "cell_type": "code",
   "execution_count": 14,
   "metadata": {},
   "outputs": [],
   "source": [
    "\n",
    "votes_spo_brut = df_spo.to_numpy()\n",
    "votes_sps_brut = pd.read_csv('data/approval_assembly_sps.csv').to_numpy()\n",
    "votes_cat_spo = np.zeros((10, 3))\n",
    "votes_cat_sps = np.zeros((10, 3))\n",
    "for i in range(3):\n",
    "    for j in range(10):\n",
    "        votes_cat_spo[j, i] = len([x for x in votes_spo_brut[:, j] if x == i-1])\n",
    "        votes_cat_sps[j, i] = len([x for x in votes_sps_brut[:, j] if x == i-1])"
   ]
  },
  {
   "cell_type": "code",
   "execution_count": 5,
   "metadata": {},
   "outputs": [
    {
     "data": {
      "text/plain": [
       "14.848646575342464"
      ]
     },
     "execution_count": 5,
     "metadata": {},
     "output_type": "execute_result"
    }
   ],
   "source": [
    "import numpy as np \n",
    "\n",
    "np.mean([12.931,12.934,12.920,12.906,12.932,12.967,12.972,12.991,12.997,12.967,13.004,13.072,13.100,13.128,13.038,12.964,12.934,12.923,12.907,12.939,12.950,12.971,13.035,13.081,13.100,13.004,12.910,12.841,12.841,12.868,12.895,12.927,12.915,12.919,12.910,12.911,12.924,13.015,13.151,13.298,13.378,13.331,13.209,13.118,13.116,13.143,13.210,13.257,13.243,13.199,13.188,13.223,13.266,13.339,13.393,13.519,13.644,13.743,13.799,13.799,13.854,13.893,13.849,13.817,13.816,13.848,13.827,13.836,13.851,13.806,13.773,13.785,13.903,14.047,14.084,14.211,14.295,14.263,14.165,14.137,14.144,14.185,14.173,14.129,14.111,14.112,14.195,14.250,14.280,14.293,14.323,14.401,14.490,14.559,14.662,14.770,14.838,14.859,14.842,14.820,14.803,14.787,14.744,14.696,14.691,14.658,14.648,14.650,14.709,14.803,14.820,14.895,14.912,14.923,14.977,14.982,15.000,15.041,15.117,15.139,15.190,15.242,15.271,15.242,15.256,15.359,15.366,15.357,15.341,15.341,15.395,15.450,15.505,15.590,15.646,15.654,15.659,15.642,15.701,15.698,15.617,15.636,15.731,15.830,15.948,16.010,16.028,16.013,16.031,16.018,15.977,15.996,16.026,16.020,16.059,16.141,16.218,16.307,16.361,16.386,16.400,16.365,16.351,16.414,16.509,16.593,16.605,16.558,16.486,16.486,16.483,16.522,16.577,16.625,16.677,16.626,16.550,16.468,16.450,16.463,16.476,16.530,16.561,16.578,16.641,16.680,16.728,16.748,16.750,16.728,16.712,16.667,16.658,16.706,16.774,16.785,16.806,16.758,16.720,16.718,16.747,16.796,16.846,16.886,16.924,16.885,16.838,16.862,16.891,16.865,16.784,16.807,16.806,16.791,16.802,16.814,16.764,16.705,16.683,16.666,16.694,16.697,16.739,16.717,16.655,16.661,16.706,16.662,16.572,16.523,16.465,16.355,16.322,16.410,16.413,16.441,16.486,16.467,16.451,16.364,16.279,16.287,16.290,16.319,16.262,16.262,16.276,16.224,16.203,16.198,16.185,16.130,16.103,16.111,16.136,16.133,16.127,16.078,16.064,16.044,16.038,15.972,15.866,15.775,15.737,15.721,15.719,15.716,15.692,15.657,15.535,15.446,15.426,15.392,15.353,15.299,15.288,15.347,15.340,15.258,15.209,15.136,15.117,15.158,15.173,15.101,15.089,15.094,15.032,14.980,14.926,14.918,14.936,14.961,14.934,14.788,14.744,14.728,14.692,14.618,14.540,14.535,14.484,14.357,14.185,14.053,13.965,13.963,14.009,14.038,13.994,14.015,14.003,13.880,13.819,13.750,13.687,13.616,13.576,13.559,13.565,13.558,13.527,13.487,13.442,13.444,13.501,13.512,13.511,13.469,13.442,13.373,13.257,13.097,13.099,13.173,13.246,13.283,13.337,13.421,13.401,13.348,13.350,13.302,13.220,13.121,13.070,13.069,13.070,13.114,13.069,12.967,13.002,13.040,13.003,12.903,12.812,12.809,12.890,12.930,12.958,12.964,12.999,13.049,13.150])"
   ]
  },
  {
   "cell_type": "code",
   "execution_count": 15,
   "metadata": {},
   "outputs": [
    {
     "data": {
      "image/png": "[encoded data removed]",
      "text/plain": [
       "<Figure size 1000x500 with 1 Axes>"
      ]
     },
     "metadata": {},
     "output_type": "display_data"
    }
   ],
   "source": [
    "plt.figure(figsize=(10,5))\n",
    "plt.bar(range(10), votes_cat_spo[:,0], label='Pour', color='g')\n",
    "plt.bar(range(10), votes_cat_spo[:,1], bottom=votes_cat_spo[:,0], label='Abst', color='y')\n",
    "plt.bar(range(10), votes_cat_spo[:,2], bottom=votes_cat_spo[:,0]+votes_cat_spo[:,1], label='Contre', color='r')\n",
    "plt.xticks(range(10), parties)\n",
    "plt.legend()\n",
    "plt.savefig('images/french_assembly_2.png')\n",
    "plt.show()\n"
   ]
  },
  {
   "cell_type": "code",
   "execution_count": 14,
   "metadata": {},
   "outputs": [
    {
     "data": {
      "image/png": "[encoded data removed]",
      "text/plain": [
       "<Figure size 1000x500 with 1 Axes>"
      ]
     },
     "metadata": {},
     "output_type": "display_data"
    }
   ],
   "source": [
    "plt.figure(figsize=(10,5))\n",
    "plt.bar(range(10), votes_cat_sps[:,0], label='Pour', color='g')\n",
    "plt.bar(range(10), votes_cat_sps[:,1], bottom=votes_cat_sps[:,0], label='Abst', color='y')\n",
    "plt.bar(range(10), votes_cat_sps[:,2], bottom=votes_cat_sps[:,0]+votes_cat_sps[:,1], label='Contre', color='r')\n",
    "plt.xticks(range(10), parties)\n",
    "plt.legend()\n",
    "plt.show()"
   ]
  },
  {
   "cell_type": "markdown",
   "metadata": {},
   "source": [
    "We can use our axis rules by specifying they should take into account abstention. For all rules we can find an easy variant, which consist for each vote to ignore all parties on the axis that are abstaining."
   ]
  },
  {
   "cell_type": "code",
   "execution_count": 17,
   "metadata": {},
   "outputs": [
    {
     "name": "stdout",
     "output_type": "stream",
     "text": [
      "Voter Deletion\n",
      "LFI < Écolo < GDR < SOC < LIOT < RN < LR < HOR < Dem < RE\n",
      "Score of this axis : 481.0\n",
      "\n",
      "\n",
      "Ballot Completion\n",
      "LFI < Écolo < GDR < SOC < LIOT < RN < LR < HOR < Dem < RE\n",
      "Score of this axis : 733.0\n",
      "\n",
      "\n",
      "Minimal Swaps\n",
      "LFI < Écolo < GDR < SOC < LIOT < RN < LR < HOR < Dem < RE\n",
      "Score of this axis : 895.0\n",
      "\n",
      "\n",
      "Forbidden Triples\n",
      "LFI < Écolo < GDR < SOC < LIOT < RN < LR < HOR < Dem < RE\n",
      "Score of this axis : 4114.0\n",
      "\n",
      "\n"
     ]
    }
   ],
   "source": [
    "axis_rules = [axis.VoterDeletion, axis.BallotCompletion, axis.MinimalSwaps, axis.ForbiddenTriples]\n",
    "\n",
    "for rule in axis_rules:\n",
    "    print(rule.name)\n",
    "    rule_instance = rule(votes_spo_brut, abstention=True)\n",
    "    res = rule_instance.bruteforce()\n",
    "    axis.print_axis(res[0][0], parties)\n",
    "    axis_score = rule_instance.get_score(res[0][0])\n",
    "    print(\"Score of this axis :\", axis_score)\n",
    "    print(\"\\n\")"
   ]
  },
  {
   "cell_type": "markdown",
   "metadata": {},
   "source": [
    "This time, we obtain even better fitting results, but similar axis as before. For instance, for voter deletion, the best axis fits 80% of the voters. If we use circular axis (cycles), it is even better, and we can fit 89.4% voters on the best VD axis and the best BC axis needs  0.15 additional parties per votes for the profile to be linear. Note that we obtian similar axis than before, but for VD, LIOT is now closer to the government coalition. However, it is still between the left opposition and right opposition for BC."
   ]
  },
  {
   "cell_type": "code",
   "execution_count": 5,
   "metadata": {},
   "outputs": [
    {
     "name": "stdout",
     "output_type": "stream",
     "text": [
      "Voter Deletion Circular\n",
      "GDR < RN < LR < HOR < RE < Dem < LIOT < SOC < Écolo < LFI\n",
      "Score of this axis : 264.0\n",
      "\n",
      "\n",
      "Ballot Completion Circular\n",
      "GDR < LIOT < RN < LR < HOR < RE < Dem < SOC < Écolo < LFI\n",
      "Score of this axis : 393.0\n",
      "\n",
      "\n"
     ]
    }
   ],
   "source": [
    "axis_rules = [axis.VoterDeletionCircular, axis.BallotCompletionCircular]\n",
    "\n",
    "for rule in axis_rules:\n",
    "    print(rule.name)\n",
    "    rule_instance = rule(votes_spo_brut, abstention=True)\n",
    "    res = rule_instance.bruteforce()\n",
    "    axis.print_axis(res[0][0], parties)\n",
    "    axis_score = rule_instance.get_score(res[0][0])\n",
    "    print(\"Score of this axis :\", axis_score)\n",
    "    print(\"\\n\") "
   ]
  }
 ],
 "metadata": {
  "kernelspec": {
   "display_name": "Python 3",
   "language": "python",
   "name": "python3"
  },
  "language_info": {
   "codemirror_mode": {
    "name": "ipython",
    "version": 3
   },
   "file_extension": ".py",
   "mimetype": "text/x-python",
   "name": "python",
   "nbconvert_exporter": "python",
   "pygments_lexer": "ipython3",
   "version": "3.11.1"
  },
  "orig_nbformat": 4
 },
 "nbformat": 4,
 "nbformat_minor": 2
}
