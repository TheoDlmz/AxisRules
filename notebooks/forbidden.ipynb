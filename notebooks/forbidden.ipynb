{
 "cells": [
  {
   "cell_type": "code",
   "execution_count": 1,
   "metadata": {},
   "outputs": [],
   "source": [
    "import axisrules as axis\n",
    "import numpy as np\n",
    "import itertools\n"
   ]
  },
  {
   "cell_type": "code",
   "execution_count": 15,
   "metadata": {},
   "outputs": [],
   "source": [
    "matrix_V = [[1,1,0,0,0],[0,0,1,1,0],[1,1,1,1,0],[1,0,1,0,1]]\n",
    "matrix_IV = [[1,1,0,0,0,0], [0,0,1,1,0,0], [0,0,0,0,1,1],[1,0,1,0,1,0]]\n",
    "\n",
    "matrix = matrix_IV\n",
    "n_cand = len(matrix[0])\n"
   ]
  },
  {
   "cell_type": "code",
   "execution_count": 16,
   "metadata": {},
   "outputs": [
    {
     "name": "stdout",
     "output_type": "stream",
     "text": [
      "360\n"
     ]
    }
   ],
   "source": [
    "\n",
    "\n",
    "axis_rules = [axis.VoterDeletion, axis.MinimalFlips, axis.BallotCompletion, axis.MinimalSwaps, axis.ForbiddenTriples]\n",
    "\n",
    "\n",
    "\n",
    "axis_res = {}\n",
    "for rule in axis_rules:\n",
    "    rule = rule(matrix)\n",
    "    best_score = -1\n",
    "    best_axis = []\n",
    "    c = 0\n",
    "    for x in (list(itertools.permutations(range(n_cand-2)))):\n",
    "        lx = list(x)\n",
    "        for i in range(n_cand-1):\n",
    "            for j in range(i,n_cand-1):\n",
    "                x_fin = lx[:i]+[n_cand-1]+lx[i:j]+[n_cand-2]+lx[j:]\n",
    "\n",
    "                score = rule.get_score(x_fin)\n",
    "                c += 1\n",
    "                if score == best_score:\n",
    "                    best_axis.append(x_fin)\n",
    "                elif score < best_score or best_score == -1:\n",
    "                    best_score = score\n",
    "                    best_axis = [x_fin]\n",
    "\n",
    "    axis_res[rule.name] = best_axis\n",
    "\n",
    "print(c)\n",
    "\n",
    "axis_dict = {}\n",
    "\n",
    "for rule in axis_rules:\n",
    "    for x in axis_res[rule.name]:\n",
    "        xstr = str(x)\n",
    "        if xstr not in axis_dict:\n",
    "            axis_dict[xstr] = []\n",
    "            \n",
    "        axis_dict[xstr].append(rule.name)\n",
    "\n",
    "\n"
   ]
  },
  {
   "cell_type": "code",
   "execution_count": 17,
   "metadata": {},
   "outputs": [
    {
     "name": "stdout",
     "output_type": "stream",
     "text": [
      "{'[5, 4, 0, 1, 2, 3]': ['Voter Deletion', 'Minimal Flips', 'Ballot Completion', 'Minimal Swaps', 'Forbidden Triples'], '[0, 1, 5, 4, 2, 3]': ['Voter Deletion', 'Minimal Flips'], '[0, 1, 2, 3, 5, 4]': ['Voter Deletion'], '[5, 4, 0, 1, 3, 2]': ['Voter Deletion', 'Minimal Flips'], '[0, 1, 5, 4, 3, 2]': ['Voter Deletion'], '[0, 1, 3, 2, 5, 4]': ['Voter Deletion'], '[5, 4, 0, 2, 3, 1]': ['Voter Deletion', 'Forbidden Triples'], '[5, 4, 1, 0, 2, 3]': ['Voter Deletion', 'Minimal Flips', 'Ballot Completion', 'Minimal Swaps', 'Forbidden Triples'], '[5, 1, 0, 4, 2, 3]': ['Voter Deletion', 'Forbidden Triples'], '[1, 5, 4, 0, 2, 3]': ['Voter Deletion', 'Forbidden Triples'], '[1, 0, 5, 4, 2, 3]': ['Voter Deletion', 'Minimal Flips', 'Ballot Completion', 'Minimal Swaps', 'Forbidden Triples'], '[1, 0, 2, 3, 5, 4]': ['Voter Deletion', 'Minimal Flips'], '[5, 4, 1, 0, 3, 2]': ['Voter Deletion'], '[1, 0, 5, 4, 3, 2]': ['Voter Deletion'], '[1, 0, 3, 2, 5, 4]': ['Voter Deletion'], '[5, 4, 2, 0, 1, 3]': ['Voter Deletion', 'Forbidden Triples'], '[5, 4, 2, 3, 0, 1]': ['Voter Deletion', 'Minimal Flips', 'Ballot Completion', 'Minimal Swaps', 'Forbidden Triples'], '[2, 3, 5, 4, 0, 1]': ['Voter Deletion', 'Minimal Flips'], '[2, 3, 0, 1, 5, 4]': ['Voter Deletion'], '[5, 4, 2, 3, 1, 0]': ['Voter Deletion', 'Minimal Flips'], '[2, 3, 5, 4, 1, 0]': ['Voter Deletion'], '[2, 3, 1, 0, 5, 4]': ['Voter Deletion'], '[5, 4, 3, 2, 0, 1]': ['Voter Deletion', 'Minimal Flips', 'Ballot Completion', 'Minimal Swaps', 'Forbidden Triples'], '[5, 3, 2, 4, 0, 1]': ['Voter Deletion', 'Forbidden Triples'], '[3, 5, 4, 2, 0, 1]': ['Voter Deletion', 'Forbidden Triples'], '[3, 2, 5, 4, 0, 1]': ['Voter Deletion', 'Minimal Flips', 'Ballot Completion', 'Minimal Swaps', 'Forbidden Triples'], '[3, 2, 0, 1, 5, 4]': ['Voter Deletion', 'Minimal Flips'], '[5, 4, 3, 2, 1, 0]': ['Voter Deletion'], '[3, 2, 5, 4, 1, 0]': ['Voter Deletion'], '[3, 2, 1, 0, 5, 4]': ['Voter Deletion'], '[5, 4, 0, 2, 1, 3]': ['Forbidden Triples'], '[5, 1, 4, 0, 2, 3]': ['Forbidden Triples'], '[1, 5, 0, 4, 2, 3]': ['Forbidden Triples'], '[5, 4, 2, 0, 3, 1]': ['Forbidden Triples'], '[5, 3, 4, 2, 0, 1]': ['Forbidden Triples'], '[3, 5, 2, 4, 0, 1]': ['Forbidden Triples']}\n"
     ]
    }
   ],
   "source": [
    "print(axis_dict)"
   ]
  },
  {
   "cell_type": "code",
   "execution_count": 18,
   "metadata": {},
   "outputs": [
    {
     "name": "stdout",
     "output_type": "stream",
     "text": [
      "{\"['Voter Deletion', 'Minimal Flips', 'Ballot Completion', 'Minimal Swaps', 'Forbidden Triples']\": 6, \"['Voter Deletion', 'Minimal Flips']\": 6, \"['Voter Deletion']\": 12, \"['Voter Deletion', 'Forbidden Triples']\": 6, \"['Forbidden Triples']\": 6}\n"
     ]
    }
   ],
   "source": [
    "combinaison_dict = {}\n",
    "\n",
    "for x in axis_dict:\n",
    "    res = str(axis_dict[x])\n",
    "    if res not in combinaison_dict:\n",
    "        combinaison_dict[res] = 0\n",
    "    combinaison_dict[res] += 1\n",
    "\n",
    "print(combinaison_dict)"
   ]
  },
  {
   "cell_type": "code",
   "execution_count": null,
   "metadata": {},
   "outputs": [],
   "source": []
  }
 ],
 "metadata": {
  "kernelspec": {
   "display_name": "base",
   "language": "python",
   "name": "python3"
  },
  "language_info": {
   "codemirror_mode": {
    "name": "ipython",
    "version": 3
   },
   "file_extension": ".py",
   "mimetype": "text/x-python",
   "name": "python",
   "nbconvert_exporter": "python",
   "pygments_lexer": "ipython3",
   "version": "3.11.1"
  },
  "orig_nbformat": 4
 },
 "nbformat": 4,
 "nbformat_minor": 2
}
