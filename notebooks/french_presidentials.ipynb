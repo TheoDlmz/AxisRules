{
 "cells": [
  {
   "cell_type": "code",
   "execution_count": 1,
   "metadata": {},
   "outputs": [],
   "source": [
    "import numpy as np\n",
    "import json\n",
    "import matplotlib.pyplot as plt\n",
    "import pandas as pd \n",
    "from tqdm import tqdm\n",
    "import os \n",
    "\n",
    "import matplotlib.pylab as pl"
   ]
  },
  {
   "cell_type": "code",
   "execution_count": 2,
   "metadata": {},
   "outputs": [],
   "source": [
    "import axisrules as axis"
   ]
  },
  {
   "cell_type": "code",
   "execution_count": 3,
   "metadata": {},
   "outputs": [],
   "source": [
    "path_dataset = \"../data/\" \n",
    "\n",
    "list_datasets = []\n",
    "\n",
    "for folder in os.listdir(path_dataset):\n",
    "    for dataset in os.listdir(path_dataset+folder):\n",
    "        candidates = path_dataset+folder+\"/candidates.csv\"\n",
    "        # Test isdir \n",
    "        if os.path.isdir(path_dataset+folder+\"/\"+dataset):\n",
    "            path_weights=  path_dataset+folder+\"/\"+dataset+\"/weights.csv\" \n",
    "            # Test if there is weight file:\n",
    "            isweight = False\n",
    "            if os.path.isfile(path_weights):\n",
    "                isweight = True\n",
    "            for file in os.listdir(path_dataset+folder+\"/\"+dataset+\"/votes\"):\n",
    "                if file.endswith(\".csv\"):\n",
    "                    list_datasets.append({\"votes\":path_dataset+folder+\"/\"+dataset+\"/votes/\"+file, \n",
    "                                            \"weights\":path_weights,\n",
    "                                            \"isweight\":isweight,\n",
    "                                            \"candidates\": candidates,\n",
    "                                            \"year\": folder,\n",
    "                                            \"dataset\": dataset,\n",
    "                                            \"file\":file})\n",
    "\n",
    "\n",
    "\n",
    "            "
   ]
  },
  {
   "cell_type": "code",
   "execution_count": 4,
   "metadata": {},
   "outputs": [
    {
     "name": "stdout",
     "output_type": "stream",
     "text": [
      "Crolles France 2017\n",
      "11 ['Emmanuel Macron', 'Marine Le Pen', 'François Fillon', 'Jean-Luc Mélenchon', 'Benoît Hamon', 'Nicolas Dupont-Aignan', 'Jean Lassalle', 'Philippe Poutou', 'François Asselineau', 'Nathalie Arthaud', 'Jacques Cheminade']\n",
      "Crolles France 2017\n",
      "11 ['Emmanuel Macron', 'Marine Le Pen', 'François Fillon', 'Jean-Luc Mélenchon', 'Benoît Hamon', 'Nicolas Dupont-Aignan', 'Jean Lassalle', 'Philippe Poutou', 'François Asselineau', 'Nathalie Arthaud', 'Jacques Cheminade']\n",
      "Grenoble France 2017\n",
      "11 ['Emmanuel Macron', 'Marine Le Pen', 'François Fillon', 'Jean-Luc Mélenchon', 'Benoît Hamon', 'Nicolas Dupont-Aignan', 'Jean Lassalle', 'Philippe Poutou', 'François Asselineau', 'Nathalie Arthaud', 'Jacques Cheminade']\n",
      "HSC France 2017\n",
      "11 ['Emmanuel Macron', 'Marine Le Pen', 'François Fillon', 'Jean-Luc Mélenchon', 'Benoît Hamon', 'Nicolas Dupont-Aignan', 'Jean Lassalle', 'Philippe Poutou', 'François Asselineau', 'Nathalie Arthaud', 'Jacques Cheminade']\n",
      "Online France 2017\n",
      "11 ['Emmanuel Macron', 'Marine Le Pen', 'François Fillon', 'Jean-Luc Mélenchon', 'Benoît Hamon', 'Nicolas Dupont-Aignan', 'Jean Lassalle', 'Philippe Poutou', 'François Asselineau', 'Nathalie Arthaud', 'Jacques Cheminade']\n",
      "Strasbourg France 2017\n",
      "11 ['Emmanuel Macron', 'Marine Le Pen', 'François Fillon', 'Jean-Luc Mélenchon', 'Benoît Hamon', 'Nicolas Dupont-Aignan', 'Jean Lassalle', 'Philippe Poutou', 'François Asselineau', 'Nathalie Arthaud', 'Jacques Cheminade']\n",
      "Online France 2022\n",
      "Voter Deletion\n"
     ]
    },
    {
     "name": "stderr",
     "output_type": "stream",
     "text": [
      "100%|██████████| 3628800/3628800 [03:46<00:00, 16036.30it/s]\n"
     ]
    },
    {
     "name": "stdout",
     "output_type": "stream",
     "text": [
      "Minimal Flips\n"
     ]
    },
    {
     "name": "stderr",
     "output_type": "stream",
     "text": [
      "100%|██████████| 3628800/3628800 [10:00<00:00, 6039.72it/s] \n"
     ]
    },
    {
     "name": "stdout",
     "output_type": "stream",
     "text": [
      "Ballot Completion\n"
     ]
    },
    {
     "name": "stderr",
     "output_type": "stream",
     "text": [
      "100%|██████████| 3628800/3628800 [03:39<00:00, 16498.93it/s]\n"
     ]
    },
    {
     "name": "stdout",
     "output_type": "stream",
     "text": [
      "Minimal Swaps\n"
     ]
    },
    {
     "name": "stderr",
     "output_type": "stream",
     "text": [
      "100%|██████████| 3628800/3628800 [08:39<00:00, 6991.29it/s] \n"
     ]
    },
    {
     "name": "stdout",
     "output_type": "stream",
     "text": [
      "Forbidden Triples\n"
     ]
    },
    {
     "name": "stderr",
     "output_type": "stream",
     "text": [
      "100%|██████████| 3628800/3628800 [26:53<00:00, 2249.30it/s] \n"
     ]
    }
   ],
   "source": [
    "axis_rules = [axis.VoterDeletion, axis.MinimalFlips, axis.BallotCompletion, \n",
    "              axis.MinimalSwaps, axis.ForbiddenTriples]\n",
    "axis_rules_seq = [axis.SequentialVoterDeletion, axis.SequentialMinimalFlips, \n",
    "              axis.SequentialBallotCompletion, axis.SequentialMinimalSwaps, axis.SequentialForbiddenTriples]\n",
    "\n",
    "n_candidates = 12\n",
    "\n",
    "tab_res = []\n",
    "\n",
    "if n_candidates > 6:\n",
    "    df_previous = pd.read_csv(\"data/french_axis_yes_w_%i.csv\"%(n_candidates-1))\n",
    "for data in list_datasets:\n",
    "\n",
    "    if data[\"year\"] not in [\"France 2017\", \"France 2022\"]:\n",
    "        continue\n",
    "\n",
    "\n",
    "    # filter the one with dataset and year and file:\n",
    "    if n_candidates > 6:\n",
    "        df_previous_data =  df_previous[(df_previous[\"dataset\"]==data[\"dataset\"]) & (df_previous[\"year\"]==data[\"year\"]) & (df_previous[\"file\"]==data[\"file\"])]\n",
    "\n",
    "\n",
    "\n",
    "    # print(\"\")\n",
    "    print(data[\"dataset\"], data[\"year\"])\n",
    "    dataset = data[\"dataset\"]\n",
    "    year = data[\"year\"]\n",
    "    df = pd.read_csv(data[\"votes\"], index_col=0)\n",
    "    candidates = df.columns\n",
    "    votes = df.values\n",
    "    n_voters = votes.shape[0]\n",
    "    # print(\"voters:\",votes.shape[0],\"\\n\")\n",
    "    weights = None \n",
    "    df_cand = pd.read_csv(data[\"candidates\"], index_col=0)\n",
    "\n",
    "    if True:\n",
    "        if data[\"isweight\"]:\n",
    "            df_weights = pd.read_csv(data[\"weights\"], index_col=0)\n",
    "            weights = []\n",
    "            if data[\"file\"] == \"approval.csv\":\n",
    "                w_type = \"approval\"\n",
    "            else:\n",
    "                w_type = \"approval_with_runoff\"\n",
    "            for i in range(len(df.index)):\n",
    "                ind = df.index[i]\n",
    "                if ind in df_weights.index:\n",
    "                    weights.append(df_weights.loc[ind][w_type])\n",
    "                else:\n",
    "                    weights.append(0)\n",
    "            weights = np.array(weights)\n",
    "    \n",
    "\n",
    "    file = data[\"file\"]\n",
    "    dict_cand = df_cand[[\"name\", \"score\"]].to_dict()\n",
    "    cands_id = [e[1] for e in sorted([(dict_cand[\"score\"][x],x) for x in dict_cand[\"score\"]])[::-1][:n_candidates]]\n",
    "    cands_name = [dict_cand[\"name\"][x] for x in cands_id]\n",
    "    selected_id = [i for i in range(len(candidates)) if candidates[i] in cands_name]\n",
    "    votes = votes[:, selected_id]\n",
    "    # count number of votes with > 2 approvals \n",
    "    active_voters = np.sum(np.sum(votes, axis=1)>=2)\n",
    "    candidates = [candidates[i] for i in selected_id]\n",
    "    n_candidates_bis = len(candidates)\n",
    "    if n_candidates != n_candidates_bis:\n",
    "        print(n_candidates_bis, cands_name)\n",
    "        if dataset != \"IEP Paris\":\n",
    "            continue\n",
    "\n",
    "    \n",
    "    for j,rule in enumerate(axis_rules):\n",
    "        name = rule.name\n",
    "        print(name)\n",
    "        rule_instance = rule(votes, weights)\n",
    "\n",
    "        if n_candidates > 6:\n",
    "            df_previous_rule = df_previous_data[df_previous_data[\"rule\"]==name]\n",
    "\n",
    "            # get first element\n",
    "            previous_axis = df_previous_rule.iloc[0][\"axis\"]\n",
    "            axis_num = axis.reverse_axis(previous_axis, cands_name[:-1])\n",
    "            min_score = None\n",
    "            min_axis = None\n",
    "            for i in range(len(axis_num)+1):\n",
    "                tested_axis = axis_num[:i]+[n_candidates-1]+axis_num[i:]\n",
    "                score_axis = rule_instance.get_score(tested_axis)\n",
    "                if min_score is None or score_axis < min_score:\n",
    "                    min_score = score_axis\n",
    "                    min_axis = tested_axis\n",
    "\n",
    "\n",
    "            # axis.print_axis(min_axis, cands_name)\n",
    "\n",
    "        # seq_result = axis_rules_seq[j](votes, weights)()\n",
    "        \n",
    "        if n_candidates > 6:\n",
    "            res = rule_instance.bruteforce(proxy_axis=min_axis)\n",
    "        else:\n",
    "            res = rule_instance.bruteforce()\n",
    "\n",
    "        # axis.print_axis(res[0][0], candidates)\n",
    "        axis_score = res[0][1]\n",
    "        # print(\"Score of this axis :\", int(axis_score))\n",
    "        for el in res:\n",
    "            tab_res.append([dataset, year, file, name, axis.get_axis(el[0], candidates), axis_score,n_voters,active_voters, n_candidates_bis])\n",
    "\n",
    "\n",
    "df_res = pd.DataFrame(tab_res, columns=[\"dataset\", \"year\", \"file\", \"rule\", \"axis\", \"score\", \"n_voters\",\"active_voters\",\"n_candidates\"])\n",
    "df_res.to_csv(\"data/french_axis_yes_w_%i.csv\"%n_candidates,index=False)\n"
   ]
  },
  {
   "cell_type": "code",
   "execution_count": 34,
   "metadata": {},
   "outputs": [
    {
     "name": "stdout",
     "output_type": "stream",
     "text": [
      "Voter Deletion\n"
     ]
    }
   ],
   "source": [
    "axis_rules = [axis.VoterDeletion, axis.BallotCompletion]\n",
    "\n",
    "for rule in axis_rules:\n",
    "    print(rule.name)\n",
    "    rule_instance = rule(votes, weights)\n",
    "    res = rule_instance.lp()\n",
    "    axis.print_axis(res, candidates)\n",
    "    axis_score = rule_instance.get_score(res)   \n",
    "    print(\"Score of this axis :\", int(axis_score))"
   ]
  },
  {
   "cell_type": "code",
   "execution_count": 5,
   "metadata": {},
   "outputs": [],
   "source": [
    "\n",
    "dict_dataset = {\"France 2017\":{}, \"France 2022\":{}}\n",
    "for n_candidates in range(6,13):\n",
    "    df_data = pd.read_csv(\"data/french_axis_yes_w_%i.csv\"%(n_candidates))\n",
    "    # filter the one with dataset and year and file:\n",
    "    df_data =  df_data[(df_data[\"dataset\"]==\"Online\")]\n",
    "\n",
    "    for v in df_data.values:\n",
    "            year = v[1]\n",
    "            rule = v[3]\n",
    "            if rule not in dict_dataset[year]:\n",
    "                dict_dataset[year][rule] = []\n",
    "            dict_dataset[year][rule].append((v[4],v[5],n_candidates))\n",
    "\n"
   ]
  },
  {
   "cell_type": "code",
   "execution_count": 9,
   "metadata": {},
   "outputs": [
    {
     "name": "stdout",
     "output_type": "stream",
     "text": [
      "France 2017\n",
      "Voter Deletion\n",
      "Minimal Flips\n",
      "Ballot Completion\n",
      "Minimal Swaps\n",
      "Forbidden Triples\n",
      "France 2022\n",
      "Voter Deletion\n",
      "12 JL<MLP<EZ<NDA<VP<EM<AH<YJ<JLM<PP<NA<FR\n",
      "Minimal Flips\n",
      "12 NDA<EZ<MLP<JL<VP<EM<YJ<AH<FR<JLM<PP<NA\n",
      "Ballot Completion\n",
      "12 NDA<EZ<MLP<JL<VP<EM<AH<YJ<JLM<FR<PP<NA\n",
      "Minimal Swaps\n",
      "12 NDA<EZ<MLP<JL<VP<EM<YJ<AH<JLM<FR<PP<NA\n",
      "Forbidden Triples\n",
      "12 NDA<EZ<MLP<JL<VP<EM<YJ<AH<FR<JLM<PP<NA\n"
     ]
    }
   ],
   "source": [
    "def filter_upper(s):\n",
    "    return ''.join([c for c in s if c.isupper() or c==\"<\"])\n",
    "\n",
    "for year in dict_dataset:\n",
    "    print(year)\n",
    "    for rule in dict_dataset[year]:\n",
    "        print(rule)\n",
    "        for s, _, n  in dict_dataset[year][rule]:\n",
    "            if n == 12:\n",
    "                print(n, filter_upper(s))"
   ]
  }
 ],
 "metadata": {
  "kernelspec": {
   "display_name": "Python 3",
   "language": "python",
   "name": "python3"
  },
  "language_info": {
   "codemirror_mode": {
    "name": "ipython",
    "version": 3
   },
   "file_extension": ".py",
   "mimetype": "text/x-python",
   "name": "python",
   "nbconvert_exporter": "python",
   "pygments_lexer": "ipython3",
   "version": "3.11.1"
  }
 },
 "nbformat": 4,
 "nbformat_minor": 2
}
