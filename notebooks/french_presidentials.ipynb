{
 "cells": [
  {
   "cell_type": "code",
   "execution_count": 1,
   "metadata": {},
   "outputs": [],
   "source": [
    "import numpy as np\n",
    "import json\n",
    "import matplotlib.pyplot as plt\n",
    "import pandas as pd \n",
    "from tqdm import tqdm\n",
    "import os \n",
    "\n",
    "import matplotlib.pylab as pl"
   ]
  },
  {
   "cell_type": "code",
   "execution_count": 2,
   "metadata": {},
   "outputs": [],
   "source": [
    "import axisrules as axis"
   ]
  },
  {
   "cell_type": "code",
   "execution_count": 3,
   "metadata": {},
   "outputs": [],
   "source": [
    "path_dataset = \"../data/\" \n",
    "\n",
    "list_datasets = []\n",
    "\n",
    "for folder in os.listdir(path_dataset):\n",
    "    for dataset in os.listdir(path_dataset+folder):\n",
    "        candidates = path_dataset+folder+\"/candidates.csv\"\n",
    "        # Test isdir \n",
    "        if os.path.isdir(path_dataset+folder+\"/\"+dataset):\n",
    "            path_weights=  path_dataset+folder+\"/\"+dataset+\"/weights.csv\" \n",
    "            # Test if there is weight file:\n",
    "            isweight = False\n",
    "            if os.path.isfile(path_weights):\n",
    "                isweight = True\n",
    "            for file in os.listdir(path_dataset+folder+\"/\"+dataset+\"/votes\"):\n",
    "                if file.endswith(\".csv\"):\n",
    "                    list_datasets.append({\"votes\":path_dataset+folder+\"/\"+dataset+\"/votes/\"+file, \n",
    "                                            \"weights\":path_weights,\n",
    "                                            \"isweight\":isweight,\n",
    "                                            \"candidates\": candidates,\n",
    "                                            \"year\": folder,\n",
    "                                            \"dataset\": dataset,\n",
    "                                            \"file\":file})\n",
    "\n",
    "\n",
    "\n",
    "            "
   ]
  },
  {
   "cell_type": "code",
   "execution_count": 6,
   "metadata": {},
   "outputs": [
    {
     "name": "stdout",
     "output_type": "stream",
     "text": [
      "Gy-Les-Nonains France 2002\n",
      "Bruno Mégret < Jean-Pierre Chevènement < François Bayrou < Alain Madelin < Jacques Chirac < Jean Saint-Josse < Jean-Marie Le Pen < Arlette Laguiller < Robert Hue < Lionel Jospin < Noël Mamère < Olivier Besancenot\n",
      "Jean Saint-Josse < Jean-Marie Le Pen < Jacques Chirac < Alain Madelin < François Bayrou < Bruno Mégret < Jean-Pierre Chevènement < Arlette Laguiller < Olivier Besancenot < Noël Mamère < Lionel Jospin < Robert Hue\n",
      "Alain Madelin < François Bayrou < Jacques Chirac < Jean-Marie Le Pen < Jean-Pierre Chevènement < Jean Saint-Josse < Arlette Laguiller < Lionel Jospin < Noël Mamère < Bruno Mégret < Olivier Besancenot < Robert Hue\n",
      "Jean-Pierre Chevènement < Alain Madelin < François Bayrou < Jacques Chirac < Jean-Marie Le Pen < Jean Saint-Josse < Arlette Laguiller < Lionel Jospin < Noël Mamère < Bruno Mégret < Olivier Besancenot < Robert Hue\n",
      "Jean Saint-Josse < Alain Madelin < Jacques Chirac < Jean-Marie Le Pen < François Bayrou < Jean-Pierre Chevènement < Arlette Laguiller < Olivier Besancenot < Noël Mamère < Lionel Jospin < Bruno Mégret < Robert Hue\n",
      "IEP Paris France 2002\n",
      "11 ['Jacques Chirac', 'Jean-Marie Le Pen', 'Lionel Jospin', 'François Bayrou', 'Arlette Laguiller', 'Jean-Pierre Chevènement', 'Noël Mamère', 'Olivier Besancenot', 'Jean Saint-Josse', 'Alain Madelin', 'Robert Hue', 'Bruno Mégret']\n"
     ]
    },
    {
     "ename": "IndexError",
     "evalue": "index 11 is out of bounds for axis 0 with size 11",
     "output_type": "error",
     "traceback": [
      "\u001b[1;31m---------------------------------------------------------------------------\u001b[0m",
      "\u001b[1;31mIndexError\u001b[0m                                Traceback (most recent call last)",
      "\u001b[1;32mc:\\Users\\teoz0\\Documents\\Thèse\\Github\\AxisRules\\notebooks\\french_presidentials.ipynb Cell 4\u001b[0m line \u001b[0;36m7\n\u001b[0;32m     <a href='vscode-notebook-cell:/c%3A/Users/teoz0/Documents/Th%C3%A8se/Github/AxisRules/notebooks/french_presidentials.ipynb#W3sZmlsZQ%3D%3D?line=74'>75</a>\u001b[0m \u001b[39mfor\u001b[39;00m i \u001b[39min\u001b[39;00m \u001b[39mrange\u001b[39m(\u001b[39mlen\u001b[39m(axis_num)\u001b[39m+\u001b[39m\u001b[39m1\u001b[39m):\n\u001b[0;32m     <a href='vscode-notebook-cell:/c%3A/Users/teoz0/Documents/Th%C3%A8se/Github/AxisRules/notebooks/french_presidentials.ipynb#W3sZmlsZQ%3D%3D?line=75'>76</a>\u001b[0m     tested_axis \u001b[39m=\u001b[39m axis_num[:i]\u001b[39m+\u001b[39m[n_candidates\u001b[39m-\u001b[39m\u001b[39m1\u001b[39m]\u001b[39m+\u001b[39maxis_num[i:]\n\u001b[1;32m---> <a href='vscode-notebook-cell:/c%3A/Users/teoz0/Documents/Th%C3%A8se/Github/AxisRules/notebooks/french_presidentials.ipynb#W3sZmlsZQ%3D%3D?line=76'>77</a>\u001b[0m     score_axis \u001b[39m=\u001b[39m rule_instance\u001b[39m.\u001b[39;49mget_score(tested_axis)\n\u001b[0;32m     <a href='vscode-notebook-cell:/c%3A/Users/teoz0/Documents/Th%C3%A8se/Github/AxisRules/notebooks/french_presidentials.ipynb#W3sZmlsZQ%3D%3D?line=77'>78</a>\u001b[0m     \u001b[39mif\u001b[39;00m min_score \u001b[39mis\u001b[39;00m \u001b[39mNone\u001b[39;00m \u001b[39mor\u001b[39;00m score_axis \u001b[39m<\u001b[39m min_score:\n\u001b[0;32m     <a href='vscode-notebook-cell:/c%3A/Users/teoz0/Documents/Th%C3%A8se/Github/AxisRules/notebooks/french_presidentials.ipynb#W3sZmlsZQ%3D%3D?line=78'>79</a>\u001b[0m         min_score \u001b[39m=\u001b[39m score_axis\n",
      "File \u001b[1;32mc:\\users\\teoz0\\documents\\thèse\\github\\axisrules\\axisrules\\rules\\scoringRule.py:18\u001b[0m, in \u001b[0;36mScoringRule.get_score\u001b[1;34m(self, axis)\u001b[0m\n\u001b[0;32m     16\u001b[0m _, n_candidates \u001b[39m=\u001b[39m np\u001b[39m.\u001b[39marray(votes)\u001b[39m.\u001b[39mshape\n\u001b[0;32m     17\u001b[0m matrix \u001b[39m=\u001b[39m compute_weighted_matrix(votes, n_candidates, weights)\n\u001b[1;32m---> 18\u001b[0m \u001b[39mreturn\u001b[39;00m \u001b[39mself\u001b[39;49m\u001b[39m.\u001b[39;49m_get_score(axis, matrix, \u001b[39mNone\u001b[39;49;00m)[\u001b[39m0\u001b[39m]\n",
      "File \u001b[1;32mc:\\users\\teoz0\\documents\\thèse\\github\\axisrules\\axisrules\\rules\\scoringRule.py:130\u001b[0m, in \u001b[0;36mScoringRule._get_score\u001b[1;34m(self, axis, matrix, current_min)\u001b[0m\n\u001b[0;32m    128\u001b[0m n_app \u001b[39m=\u001b[39m ball[\u001b[39m-\u001b[39m\u001b[39m2\u001b[39m]\n\u001b[0;32m    129\u001b[0m votes \u001b[39m=\u001b[39m ball[:\u001b[39m-\u001b[39m\u001b[39m2\u001b[39m]\n\u001b[1;32m--> 130\u001b[0m score \u001b[39m+\u001b[39m\u001b[39m=\u001b[39m n\u001b[39m*\u001b[39m\u001b[39mself\u001b[39;49m\u001b[39m.\u001b[39;49mget_ballot_score(axis, votes, n_app)\n\u001b[0;32m    132\u001b[0m \u001b[39mif\u001b[39;00m current_min \u001b[39mis\u001b[39;00m \u001b[39mnot\u001b[39;00m \u001b[39mNone\u001b[39;00m \u001b[39mand\u001b[39;00m score \u001b[39m>\u001b[39m current_min:\n\u001b[0;32m    133\u001b[0m     \u001b[39mreturn\u001b[39;00m score, \u001b[39mFalse\u001b[39;00m\n",
      "File \u001b[1;32mc:\\users\\teoz0\\documents\\thèse\\github\\axisrules\\axisrules\\rules\\voterDeletion.py:15\u001b[0m, in \u001b[0;36mVoterDeletion.get_ballot_score\u001b[1;34m(self, axis, votes, n_app)\u001b[0m\n\u001b[0;32m     14\u001b[0m \u001b[39mdef\u001b[39;00m \u001b[39mget_ballot_score\u001b[39m(\u001b[39mself\u001b[39m, axis, votes, n_app):\n\u001b[1;32m---> 15\u001b[0m     min_v \u001b[39m=\u001b[39m find_min(axis, votes)\n\u001b[0;32m     16\u001b[0m     max_v \u001b[39m=\u001b[39m find_max(axis, votes)\n\u001b[0;32m     17\u001b[0m     \u001b[39mif\u001b[39;00m \u001b[39mnot\u001b[39;00m \u001b[39mself\u001b[39m\u001b[39m.\u001b[39mabstention:\n",
      "File \u001b[1;32mc:\\users\\teoz0\\documents\\thèse\\github\\axisrules\\axisrules\\misc\\axis.py:52\u001b[0m, in \u001b[0;36mfind_min\u001b[1;34m(axis, ballots)\u001b[0m\n\u001b[0;32m     50\u001b[0m \u001b[39mdef\u001b[39;00m \u001b[39mfind_min\u001b[39m(axis, ballots):\n\u001b[0;32m     51\u001b[0m     \u001b[39mfor\u001b[39;00m i \u001b[39min\u001b[39;00m \u001b[39mrange\u001b[39m(\u001b[39mlen\u001b[39m(axis)):\n\u001b[1;32m---> 52\u001b[0m         \u001b[39mif\u001b[39;00m ballots[axis[i]] \u001b[39m==\u001b[39m \u001b[39m1\u001b[39m:\n\u001b[0;32m     53\u001b[0m             \u001b[39mreturn\u001b[39;00m i\n\u001b[0;32m     54\u001b[0m     \u001b[39mreturn\u001b[39;00m \u001b[39m-\u001b[39m\u001b[39m1\u001b[39m\n",
      "\u001b[1;31mIndexError\u001b[0m: index 11 is out of bounds for axis 0 with size 11"
     ]
    }
   ],
   "source": [
    "axis_rules = [axis.VoterDeletion, axis.MinimalFlips, axis.BallotCompletion, \n",
    "              axis.MinimalSwaps, axis.ForbiddenTriples]\n",
    "axis_rules_seq = [axis.SequentialVoterDeletion, axis.SequentialMinimalFlips, \n",
    "              axis.SequentialBallotCompletion, axis.SequentialMinimalSwaps, axis.SequentialForbiddenTriples]\n",
    "\n",
    "n_candidates = 12\n",
    "\n",
    "tab_res = []\n",
    "\n",
    "df_previous = pd.read_csv(\"data/french_axis_no_w_%i.csv\"%(n_candidates-1))\n",
    "for data in list_datasets:\n",
    "\n",
    "\n",
    "    # filter the one with dataset and year and file:\n",
    "    df_previous_data =  df_previous[(df_previous[\"dataset\"]==data[\"dataset\"]) & (df_previous[\"year\"]==data[\"year\"]) & (df_previous[\"file\"]==data[\"file\"])]\n",
    "\n",
    "\n",
    "\n",
    "    # print(\"\")\n",
    "    print(data[\"dataset\"], data[\"year\"])\n",
    "    dataset = data[\"dataset\"]\n",
    "    year = data[\"year\"]\n",
    "    df = pd.read_csv(data[\"votes\"], index_col=0)\n",
    "    candidates = df.columns\n",
    "    votes = df.values\n",
    "    n_voters = votes.shape[0]\n",
    "    # print(\"voters:\",votes.shape[0],\"\\n\")\n",
    "    weights = None \n",
    "    df_cand = pd.read_csv(data[\"candidates\"], index_col=0)\n",
    "\n",
    "    if False:\n",
    "        if data[\"isweight\"]:\n",
    "            df_weights = pd.read_csv(data[\"weights\"], index_col=0)\n",
    "            weights = []\n",
    "            if data[\"file\"] == \"approval.csv\":\n",
    "                w_type = \"approval\"\n",
    "            else:\n",
    "                w_type = \"approval_with_runoff\"\n",
    "            for i in range(len(df.index)):\n",
    "                ind = df.index[i]\n",
    "                if ind in df_weights.index:\n",
    "                    weights.append(df_weights.loc[ind][w_type])\n",
    "                else:\n",
    "                    weights.append(0)\n",
    "            weights = np.array(weights)\n",
    "    \n",
    "\n",
    "    file = data[\"file\"]\n",
    "    dict_cand = df_cand[[\"name\", \"score\"]].to_dict()\n",
    "    cands_id = [e[1] for e in sorted([(dict_cand[\"score\"][x],x) for x in dict_cand[\"score\"]])[::-1][:n_candidates]]\n",
    "    cands_name = [dict_cand[\"name\"][x] for x in cands_id]\n",
    "    selected_id = [i for i in range(len(candidates)) if candidates[i] in cands_name]\n",
    "    votes = votes[:, selected_id]\n",
    "    # count number of votes with > 2 approvals \n",
    "    active_voters = np.sum(np.sum(votes, axis=1)>=2)\n",
    "    candidates = [candidates[i] for i in selected_id]\n",
    "    n_candidates_bis = len(candidates)\n",
    "    if n_candidates != n_candidates_bis:\n",
    "        print(n_candidates_bis, cands_name)\n",
    "        if dataset != \"IEP Paris\":\n",
    "            continue\n",
    "\n",
    "    \n",
    "    for j,rule in enumerate(axis_rules):\n",
    "        name = rule.name\n",
    "        rule_instance = rule(votes, weights)\n",
    "\n",
    "        df_previous_rule = df_previous_data[df_previous_data[\"rule\"]==name]\n",
    "\n",
    "        # get first element\n",
    "        previous_axis = df_previous_rule.iloc[0][\"axis\"]\n",
    "        axis_num = axis.reverse_axis(previous_axis, cands_name[:-1])\n",
    "        min_score = None\n",
    "        min_axis = None\n",
    "        for i in range(len(axis_num)+1):\n",
    "            tested_axis = axis_num[:i]+[n_candidates-1]+axis_num[i:]\n",
    "            score_axis = rule_instance.get_score(tested_axis)\n",
    "            if min_score is None or score_axis < min_score:\n",
    "                min_score = score_axis\n",
    "                min_axis = tested_axis\n",
    "\n",
    "\n",
    "        axis.print_axis(min_axis, cands_name)\n",
    "\n",
    "        # seq_result = axis_rules_seq[j](votes, weights)()\n",
    "        \n",
    "        res = rule_instance.bruteforce(proxy_axis=min_axis)\n",
    "\n",
    "        # axis.print_axis(res[0][0], candidates)\n",
    "        axis_score = res[0][1]\n",
    "        # print(\"Score of this axis :\", int(axis_score))\n",
    "        for el in res:\n",
    "            tab_res.append([dataset, year, file, name, axis.get_axis(el[0], candidates), axis_score,n_voters,active_voters, n_candidates_bis])\n",
    "\n",
    "\n",
    "df_res = pd.DataFrame(tab_res, columns=[\"dataset\", \"year\", \"file\", \"rule\", \"axis\", \"score\", \"n_voters\",\"active_voters\",\"n_candidates\"])\n",
    "df_res.to_csv(\"data/french_axis_no_w_%i.csv\"%n_candidates,index=False)\n"
   ]
  },
  {
   "cell_type": "code",
   "execution_count": 41,
   "metadata": {},
   "outputs": [
    {
     "name": "stdout",
     "output_type": "stream",
     "text": [
      "Voter Deletion\n",
      "Arlette Laguiller < Olivier Besancenot < Noël Mamère < Lionel Jospin < Jean-Pierre Chevènement < François Bayrou < Jacques Chirac < Jean-Marie Le Pen\n",
      "Score of this axis : 705\n",
      "Minimal Flips\n",
      "Arlette Laguiller < Olivier Besancenot < Noël Mamère < Lionel Jospin < Jean-Pierre Chevènement < François Bayrou < Jacques Chirac < Jean-Marie Le Pen\n",
      "Score of this axis : 778\n",
      "Ballot Completion\n",
      "Arlette Laguiller < Olivier Besancenot < Noël Mamère < Lionel Jospin < Jean-Pierre Chevènement < François Bayrou < Jacques Chirac < Jean-Marie Le Pen\n",
      "Score of this axis : 1214\n",
      "Minimal Swaps\n",
      "Arlette Laguiller < Olivier Besancenot < Noël Mamère < Lionel Jospin < Jean-Pierre Chevènement < François Bayrou < Jacques Chirac < Jean-Marie Le Pen\n",
      "Score of this axis : 1272\n",
      "Forbidden Triples\n",
      "Arlette Laguiller < Olivier Besancenot < Noël Mamère < Lionel Jospin < Jean-Pierre Chevènement < François Bayrou < Jacques Chirac < Jean-Marie Le Pen\n",
      "Score of this axis : 2205\n"
     ]
    }
   ],
   "source": []
  },
  {
   "cell_type": "code",
   "execution_count": 34,
   "metadata": {},
   "outputs": [
    {
     "name": "stdout",
     "output_type": "stream",
     "text": [
      "Voter Deletion\n"
     ]
    }
   ],
   "source": [
    "axis_rules = [axis.VoterDeletion, axis.BallotCompletion]\n",
    "\n",
    "for rule in axis_rules:\n",
    "    print(rule.name)\n",
    "    rule_instance = rule(votes, weights)\n",
    "    res = rule_instance.lp()\n",
    "    axis.print_axis(res, candidates)\n",
    "    axis_score = rule_instance.get_score(res)   \n",
    "    print(\"Score of this axis :\", int(axis_score))"
   ]
  },
  {
   "cell_type": "code",
   "execution_count": 11,
   "metadata": {},
   "outputs": [
    {
     "data": {
      "text/plain": [
       "12"
      ]
     },
     "execution_count": 11,
     "metadata": {},
     "output_type": "execute_result"
    }
   ],
   "source": [
    "for data in list_datasets:\n",
    "    "
   ]
  },
  {
   "cell_type": "code",
   "execution_count": null,
   "metadata": {},
   "outputs": [],
   "source": []
  }
 ],
 "metadata": {
  "kernelspec": {
   "display_name": "Python 3",
   "language": "python",
   "name": "python3"
  },
  "language_info": {
   "codemirror_mode": {
    "name": "ipython",
    "version": 3
   },
   "file_extension": ".py",
   "mimetype": "text/x-python",
   "name": "python",
   "nbconvert_exporter": "python",
   "pygments_lexer": "ipython3",
   "version": "3.11.1"
  }
 },
 "nbformat": 4,
 "nbformat_minor": 2
}
