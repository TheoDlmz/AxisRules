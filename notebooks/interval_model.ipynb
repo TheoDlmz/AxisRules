{
 "cells": [
  {
   "cell_type": "code",
   "execution_count": 1,
   "metadata": {},
   "outputs": [
    {
     "name": "stdout",
     "output_type": "stream",
     "text": [
      "Set parameter Username\n",
      "Academic license - for non-commercial use only - expires 2024-06-14\n",
      "(True, 1.0)\n"
     ]
    }
   ],
   "source": [
    "import gurobipy as gp\n",
    "\n",
    "def is_interval(profile, print_intervals = False):\n",
    "  # profile - list of lists of approved candidates\n",
    "    n = len(profile)\n",
    "    m = max([max(v) for v in profile if len(v)>0]) + 1\n",
    "\n",
    "\n",
    "    Mod = gp.Model()\n",
    "    Mod.params.OutputFlag = 0\n",
    "    # we assume that all intervals are contained in positive half-space\n",
    "    # and each interval is of lenght at most 1\n",
    "    v_mid = {}\n",
    "    v_rad = {}\n",
    "    for v in range(n):\n",
    "        v_mid[v] = Mod.addVar(vtype=gp.GRB.CONTINUOUS)\n",
    "        v_rad[v] = Mod.addVar(vtype=gp.GRB.CONTINUOUS)\n",
    "        Mod.addConstr(v_rad[v] >= 0.5)\n",
    "        Mod.addConstr(v_mid[v] - v_rad[v] >= 0)\n",
    "    \n",
    "    c_mid = {}\n",
    "    c_rad = {}\n",
    "    for c in range(m):\n",
    "        c_mid[c] = Mod.addVar(vtype=gp.GRB.CONTINUOUS)\n",
    "        c_rad[c] = Mod.addVar(vtype=gp.GRB.CONTINUOUS)\n",
    "        Mod.addConstr(c_rad[c] >= 0.5)\n",
    "        Mod.addConstr(c_mid[c] - c_rad[c] >= 0)\n",
    "\n",
    "    v_before_c = {} # binary variable checking if v is before c\n",
    "    # we need them only for v, c pairs such that v does not approve c\n",
    "\n",
    "    \n",
    "    completed_variables = []\n",
    "    for v in range(n):\n",
    "        for c in range(m):\n",
    "            if c in profile[v]:\n",
    "                Mod.addConstr(v_mid[v] - c_mid[c] <= v_rad[v] + c_rad[c])\n",
    "                Mod.addConstr(c_mid[c] - v_mid[v] <= v_rad[v] + c_rad[c])\n",
    "            else:\n",
    "                completed = Mod.addVar(vtype=gp.GRB.BINARY)\n",
    "                completed_variables.append(completed)\n",
    "                # if completed is 1, enforce the above constraints\n",
    "                Mod.addConstr(v_mid[v] - c_mid[c] <= v_rad[v] + c_rad[c] + 1000 * (1 - completed))\n",
    "                Mod.addConstr(c_mid[c] - v_mid[v] <= v_rad[v] + c_rad[c] + 1000 * (1 - completed))\n",
    "                # if completed is 0, enforce the below constraints\n",
    "                v_before_c[(v,c)] = Mod.addVar(vtype=gp.GRB.BINARY)\n",
    "                Mod.addConstr(v_mid[v] - c_mid[c] + 1000 * v_before_c[(v,c)] + 1000 * completed >=\n",
    "                            v_rad[v] + c_rad[c] + 0.05)\n",
    "                Mod.addConstr(c_mid[c] - v_mid[v] + 1000 * (1 - v_before_c[(v,c)]) + 1000 * completed >=\n",
    "                            v_rad[v] + c_rad[c] + 0.05)\n",
    "\n",
    "    Mod.params.TimeLimit = 60\n",
    "    Mod.setObjective(gp.quicksum(completed_variables), gp.GRB.MINIMIZE)\n",
    "    \n",
    "\n",
    "    \"\"\"\n",
    "    for v in range(n):\n",
    "        for c in range(m):\n",
    "            if c in profile[v]:\n",
    "                Mod.addConstr(v_mid[v] - c_mid[c] <= v_rad[v] + c_rad[c])\n",
    "                Mod.addConstr(c_mid[c] - v_mid[v] <= v_rad[v] + c_rad[c])\n",
    "            else:\n",
    "                v_before_c[(v,c)] = Mod.addVar(vtype=gp.GRB.BINARY)\n",
    "                Mod.addConstr(v_mid[v] - c_mid[c] + 1000 * v_before_c[(v,c)] >=\n",
    "                            v_rad[v] + c_rad[c] + 0.05)\n",
    "                Mod.addConstr(c_mid[c] - v_mid[v] + 1000 * (1 - v_before_c[(v,c)]) >=\n",
    "                            v_rad[v] + c_rad[c] + 0.05)\n",
    "                # 0.05 added to fix problems with rounding\n",
    "\n",
    "    # here, we minimize the sum of lengths of all intervals,\n",
    "    # but we can use other objectives\n",
    "    Mod.setObjective(gp.quicksum(v_rad[v] for v in range(n)) + \n",
    "                    gp.quicksum(c_rad[c] for c in range(m)), gp.GRB.MINIMIZE)\n",
    "\n",
    "    \"\"\"\n",
    "    # here, we minimize the sum of lengths of all intervals,\n",
    "    # but we can use other objectives\n",
    "    Mod.optimize()\n",
    "    # print (\"Sum of completed variables:\", sum([completed_variables[i].x for i in range(len(completed_variables))]))\n",
    "    if Mod.SolCount > 0:\n",
    "        return True, sum([completed_variables[i].x for i in range(len(completed_variables))])\n",
    "    else:\n",
    "        return False,0\n",
    "        # print sum of completed_variables:\n",
    "        if print_intervals:\n",
    "            for v in range(n):\n",
    "                print ('v' + str(v) + \": [\" + str(round(v_mid[v].x - v_rad[v].x,4)) + \n",
    "                    \" - \" + str(round(v_mid[v].x + v_rad[v].x,4)) + \"]\")\n",
    "            for c in range(m):\n",
    "                print ('c' + str(c) + \": [\" + str(round(c_mid[c].x - c_rad[c].x,4)) +\n",
    "                    \" - \" + str(round(c_mid[c].x + c_rad[c].x,4)) + \"]\")\n",
    "        return True\n",
    "    \n",
    "    \n",
    "\n",
    "profile = [[0,1],[1,2],[2,0]]\n",
    "\n",
    "print (is_interval(profile, True))"
   ]
  },
  {
   "cell_type": "code",
   "execution_count": 27,
   "metadata": {},
   "outputs": [],
   "source": [
    "import pandas as pd \n",
    "import numpy as np\n",
    "import axisrules as axis\n",
    "df = pd.read_csv('../../VoteData/Datasets/France 2022/Dynata/votes/approval.csv', index_col=0)\n",
    "approval = df.to_numpy()\n",
    "candidates = list(df.columns)\n",
    "n_voters = 10\n",
    "n_cand = 9\n",
    "# random candidates \n",
    "# selected = np.random.choice(len(candidates), n_cand, replace=False)\n",
    "# selected_voters = np.random.choice(len(approval), n_voters, replace=False)\n",
    "# approval = approval[selected_voters][:,selected]\n",
    "# candidates = [candidates[s] for s in selected]"
   ]
  },
  {
   "cell_type": "code",
   "execution_count": 24,
   "metadata": {},
   "outputs": [],
   "source": [
    "import numpy as np \n",
    "\n",
    "def matrix2approval(profile):\n",
    "    approval = []\n",
    "    for i in range(profile.shape[0]):\n",
    "        approval.append(list(np.where(profile[i,:]==1)[0]))\n",
    "    return approval\n",
    "\n",
    "votes = (matrix2approval(approval))"
   ]
  },
  {
   "cell_type": "code",
   "execution_count": 28,
   "metadata": {},
   "outputs": [
    {
     "name": "stderr",
     "output_type": "stream",
     "text": [
      " 23%|██▎       | 23/100 [00:13<00:09,  8.31it/s]"
     ]
    }
   ],
   "source": [
    "tot_bc = 0\n",
    "tot_int = 0\n",
    "\n",
    "from tqdm import tqdm \n",
    "c = 0\n",
    "\n",
    "for _ in tqdm(range(100)):\n",
    "    # random candidates \n",
    "    selected = np.random.choice(len(candidates), n_cand, replace=False)\n",
    "    selected_voters = np.random.choice(len(approval), n_voters, replace=False)\n",
    "    approval_i = approval[selected_voters][:,selected]\n",
    "    candidates_i = [candidates[s] for s in selected]\n",
    "    votes = (matrix2approval(approval_i))\n",
    "    rule = axis.BallotCompletion(approval_i)\n",
    "    res = rule.bruteforce()\n",
    "    finished, score = is_interval(votes, False)\n",
    "    if finished:\n",
    "        c += 1\n",
    "        tot_bc += rule.get_score(res[0][0])\n",
    "        tot_int += score\n"
   ]
  },
  {
   "cell_type": "code",
   "execution_count": 26,
   "metadata": {},
   "outputs": [
    {
     "name": "stdout",
     "output_type": "stream",
     "text": [
      "1.37\n",
      "0.91\n",
      "Under 1 minute: 100\n"
     ]
    }
   ],
   "source": [
    "print(tot_bc/100)\n",
    "print(tot_int/100)\n",
    "print(\"Under 1 minute:\", c)"
   ]
  },
  {
   "cell_type": "code",
   "execution_count": null,
   "metadata": {},
   "outputs": [],
   "source": []
  }
 ],
 "metadata": {
  "kernelspec": {
   "display_name": "Python 3",
   "language": "python",
   "name": "python3"
  },
  "language_info": {
   "codemirror_mode": {
    "name": "ipython",
    "version": 3
   },
   "file_extension": ".py",
   "mimetype": "text/x-python",
   "name": "python",
   "nbconvert_exporter": "python",
   "pygments_lexer": "ipython3",
   "version": "3.11.1"
  }
 },
 "nbformat": 4,
 "nbformat_minor": 2
}
