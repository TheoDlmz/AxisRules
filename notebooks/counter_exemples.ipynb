{
 "cells": [
  {
   "cell_type": "code",
   "execution_count": 1,
   "metadata": {},
   "outputs": [],
   "source": [
    "import axisrules as axis\n",
    "import numpy as np\n",
    "import itertools\n"
   ]
  },
  {
   "cell_type": "code",
   "execution_count": 18,
   "metadata": {},
   "outputs": [],
   "source": [
    "rules = [axis.MinimalFlips, axis.BallotCompletion, axis.MinimalSwaps, axis.ForbiddenTriples]\n",
    "\n",
    "def get_counter_example(rule, m, n):\n",
    "\n",
    "    for _ in range(1000):\n",
    "        votes = np.random.randint(0, 2, size=(n, m))\n",
    "        best_axis = rule(votes).bruteforce()\n",
    "        all_best_axis = [best_axis[i][0] for i in range(len(best_axis))]\n",
    "        score = best_axis[0][1]\n",
    "        best_axis_bis = rule(votes[:-1]).bruteforce()\n",
    "        all_best_axis_bis = [best_axis_bis[i][0] for i in range(len(best_axis_bis))]\n",
    "        score_bis = best_axis_bis[0][1]\n",
    "        # print(rule(votes).get_score(best_axis),rule(votes).get_score(best_axis_bis),\n",
    "            # rule(votes[:-1]).get_score(best_axis),rule(votes[:-1]).get_score(best_axis_bis))\n",
    "        ok = True\n",
    "        for axis in all_best_axis:\n",
    "            if axis in all_best_axis_bis:\n",
    "                ok = False\n",
    "\n",
    "        if score_bis == 0 and len(best_axis_bis) == 1:\n",
    "            ok = False\n",
    "\n",
    "        if ok:\n",
    "            print(votes)\n",
    "            print(best_axis)\n",
    "            print(best_axis_bis)\n",
    "            for x in best_axis_bis:\n",
    "                print(rule(votes).get_score(x[0]))\n",
    "            break\n",
    "\n"
   ]
  },
  {
   "cell_type": "code",
   "execution_count": 29,
   "metadata": {},
   "outputs": [
    {
     "name": "stdout",
     "output_type": "stream",
     "text": [
      "[[1 1 0 0 1 0]\n",
      " [1 1 1 0 1 0]\n",
      " [0 1 1 1 1 1]\n",
      " [1 1 0 1 0 1]]\n",
      "[([2, 4, 0, 1, 5, 3], 1), ([2, 4, 0, 1, 3, 5], 1), ([2, 4, 1, 0, 5, 3], 1), ([2, 4, 1, 0, 3, 5], 1)]\n",
      "[([0, 4, 1, 2, 5, 3], 0), ([0, 4, 1, 2, 3, 5], 0), ([0, 1, 4, 2, 5, 3], 0), ([0, 1, 4, 2, 3, 5], 0)]\n",
      "2\n",
      "2\n",
      "2\n",
      "2\n"
     ]
    }
   ],
   "source": [
    "\n",
    "m = 6\n",
    "n = 4\n",
    "\n",
    "\n",
    "get_counter_example(axis.MinimalFlips, m, n)"
   ]
  },
  {
   "cell_type": "code",
   "execution_count": 50,
   "metadata": {},
   "outputs": [
    {
     "data": {
      "text/plain": [
       "[([0, 1, 2, 3], 0)]"
      ]
     },
     "execution_count": 50,
     "metadata": {},
     "output_type": "execute_result"
    }
   ],
   "source": [
    "axis.VoterDeletion(np.array([[1,1,1,1]])).bruteforce()"
   ]
  },
  {
   "cell_type": "code",
   "execution_count": null,
   "metadata": {},
   "outputs": [],
   "source": []
  }
 ],
 "metadata": {
  "kernelspec": {
   "display_name": "Python 3",
   "language": "python",
   "name": "python3"
  },
  "language_info": {
   "codemirror_mode": {
    "name": "ipython",
    "version": 3
   },
   "file_extension": ".py",
   "mimetype": "text/x-python",
   "name": "python",
   "nbconvert_exporter": "python",
   "pygments_lexer": "ipython3",
   "version": "3.11.1"
  }
 },
 "nbformat": 4,
 "nbformat_minor": 2
}
