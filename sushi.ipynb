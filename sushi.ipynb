{
 "cells": [
  {
   "cell_type": "code",
   "execution_count": 1,
   "metadata": {},
   "outputs": [],
   "source": [
    "import numpy as np \n",
    "import pandas as pd\n",
    "import matplotlib.pyplot as plt\n",
    "import axis as ax\n",
    "import tikzplotlib\n",
    "from tqdm import tqdm\n",
    "import time"
   ]
  },
  {
   "cell_type": "code",
   "execution_count": 9,
   "metadata": {},
   "outputs": [],
   "source": [
    "sushi = pd.read_csv('../../../2023-07/sushi3-2016/sushi3a.5000.10.order', sep=' ', header=None).to_numpy()[:,2:]\n",
    "n_approved = 4\n",
    "n_voters, n_cands = sushi.shape\n",
    "approval = np.zeros((n_voters, n_cands))\n",
    "for i in range(n_voters):\n",
    "    for j in range(n_approved):\n",
    "        approval[i, sushi[i,j]-1] = 1"
   ]
  },
  {
   "cell_type": "code",
   "execution_count": 11,
   "metadata": {},
   "outputs": [
    {
     "name": "stdout",
     "output_type": "stream",
     "text": [
      "VD\n",
      "BC\n",
      "MS\n",
      "FT\n"
     ]
    }
   ],
   "source": [
    "print(\"VD\")\n",
    "axis_vd = ax.get_axis(approval, ax.voter_deletion)\n",
    "print(\"BC\")\n",
    "axis_bc = ax.get_axis(approval, ax.ballot_completion)\n",
    "print(\"MS\")\n",
    "axis_ms = ax.get_axis(approval, ax.minimal_swaps)\n",
    "print(\"FT\")\n",
    "axis_ft = ax.get_axis(approval, ax.forbidden_triples)"
   ]
  },
  {
   "cell_type": "code",
   "execution_count": 27,
   "metadata": {},
   "outputs": [
    {
     "name": "stdout",
     "output_type": "stream",
     "text": [
      "Voter Deletion\n",
      "tekka_maki < ikura < maguro < kappa_maki < ebi < ika < tamago < uni < anago < toro\n",
      "4024.0 2\n",
      "Ballot Completion\n",
      "tekka_maki < ikura < maguro < kappa_maki < ebi < tamago < anago < uni < ika < toro\n",
      "10259.0 1\n",
      "Minimal Swaps\n",
      "tekka_maki < ikura < maguro < kappa_maki < ebi < anago < tamago < uni < ika < toro\n",
      "12673.0 1\n",
      "Forbidden Triples\n",
      "tekka_maki < ikura < maguro < kappa_maki < ebi < anago < tamago < uni < ika < toro\n",
      "33201.0 1\n",
      "ebi 2193.0\n",
      "anago 2711.0\n",
      "maguro 1516.0\n",
      "ika 2255.0\n",
      "uni 2421.0\n",
      "ikura 999.0\n",
      "tamago 3810.0\n",
      "toro 1389.0\n",
      "tekka_maki 395.0\n",
      "kappa_maki 2311.0\n"
     ]
    }
   ],
   "source": [
    "sushi_infos = pd.read_csv('../../../2023-07/sushi3-2016/sushi3.idata', sep='\\t', header=None).to_numpy()[:,1:]\n",
    "ids = [0,1,2,3,4,6,7,8,26,29]\n",
    "sushi_infos = sushi_infos[ids]\n",
    "cands_name = [s[0] for s in sushi_infos]\n",
    "print (\"Voter Deletion\")\n",
    "ax.print_order(axis_vd[0][0], cands_name)\n",
    "print(axis_vd[0][1],len(axis_vd))\n",
    "print (\"Ballot Completion\")\n",
    "ax.print_order(axis_bc[0][0], cands_name)\n",
    "print(axis_bc[0][1],len(axis_bc))\n",
    "print (\"Minimal Swaps\")\n",
    "ax.print_order(axis_ms[0][0], cands_name)\n",
    "print(axis_ms[0][1],len(axis_ms))\n",
    "print (\"Forbidden Triples\")\n",
    "ax.print_order(axis_ft[0][0], cands_name)\n",
    "print(axis_ft[0][1],len(axis_ft))\n",
    "\n",
    "for i in range(n_cands):\n",
    "    print(cands_name[i], approval[:,i].sum())\n"
   ]
  },
  {
   "cell_type": "code",
   "execution_count": 28,
   "metadata": {},
   "outputs": [
    {
     "name": "stdout",
     "output_type": "stream",
     "text": [
      "Maki style\n",
      "1 < 0 < 0 < 1 < 0 < 0 < 0 < 0 < 0 < 0\n",
      "Seafood\n",
      "1 < 1 < 1 < 0 < 1 < 1 < 0 < 1 < 1 < 1\n",
      "Group\n",
      "1 < 7 < 1 < 11 < 6 < 5 < 9 < 8 < 3 < 1\n",
      "2.2 < 1.2 < 1.7 < 3.7 < 2.7 < 2.6 < 2.3 < 0.8 < 0.9 < 0.5\n",
      "1.8 < 1.9 < 2.3 < 1.4 < 2.1 < 2.0 < 1.8 < 1.6 < 1.9 < 2.0\n",
      "1.5 < 2.6 < 1.8 < 1.0 < 1.8 < 1.5 < 1.0 < 3.2 < 1.9 < 4.4\n",
      "0.44 < 0.88 < 0.88 < 0.4 < 0.84 < 0.92 < 0.84 < 0.88 < 0.88 < 0.8\n"
     ]
    }
   ],
   "source": [
    "\n",
    "print (\"Maki style\")\n",
    "ax.print_order(axis_vd[0][0], [str(1-s[1]) for s in sushi_infos])\n",
    "print (\"Seafood\")\n",
    "ax.print_order(axis_vd[0][0], [str(1-s[2]) for s in sushi_infos])\n",
    "print (\"Group\")\n",
    "ax.print_order(axis_vd[0][0], [str(s[3]) for s in sushi_infos])\n",
    "ax.print_order(axis_vd[0][0], [str(s[4])[:3] for s in sushi_infos])\n",
    "ax.print_order(axis_vd[0][0], [str(s[5])[:3] for s in sushi_infos])\n",
    "ax.print_order(axis_vd[0][0], [str(s[6])[:3] for s in sushi_infos])\n",
    "ax.print_order(axis_vd[0][0], [str(s[7])[:4] for s in sushi_infos])"
   ]
  },
  {
   "cell_type": "code",
   "execution_count": 32,
   "metadata": {},
   "outputs": [
    {
     "name": "stdout",
     "output_type": "stream",
     "text": [
      "VD 2\n",
      "tekka_maki < ikura < maguro < kappa_maki < ebi < uni < ika < tamago < anago < toro\n",
      "2877.0 1\n",
      "2.2 < 1.2 < 1.7 < 3.7 < 2.7 < 0.8 < 2.6 < 2.3 < 0.9 < 0.5\n",
      "VD 3\n",
      "tekka_maki < ikura < maguro < kappa_maki < ebi < ika < uni < tamago < anago < toro\n",
      "3739.0 1\n",
      "2.2 < 1.2 < 1.7 < 3.7 < 2.7 < 2.6 < 0.8 < 2.3 < 0.9 < 0.5\n",
      "VD 4\n",
      "tekka_maki < ikura < maguro < kappa_maki < ebi < ika < tamago < uni < anago < toro\n",
      "4024.0 2\n",
      "2.2 < 1.2 < 1.7 < 3.7 < 2.7 < 2.6 < 2.3 < 0.8 < 0.9 < 0.5\n",
      "VD 5\n",
      "tekka_maki < maguro < toro < kappa_maki < anago < tamago < uni < ika < ebi < ikura\n",
      "4183.0 1\n",
      "2.2 < 1.7 < 0.5 < 3.7 < 0.9 < 2.3 < 0.8 < 2.6 < 2.7 < 1.2\n",
      "VD 6\n",
      "tekka_maki < ikura < toro < ebi < anago < tamago < uni < ika < kappa_maki < maguro\n",
      "4132.0 2\n",
      "2.2 < 1.2 < 0.5 < 2.7 < 0.9 < 2.3 < 0.8 < 2.6 < 3.7 < 1.7\n"
     ]
    }
   ],
   "source": [
    "for n_approved in range(2,7):\n",
    "    n_voters, n_cands = sushi.shape\n",
    "    approval = np.zeros((n_voters, n_cands))\n",
    "    for i in range(n_voters):\n",
    "        for j in range(n_approved):\n",
    "            approval[i, sushi[i,j]-1] = 1\n",
    "\n",
    "    print(\"VD\", n_approved)\n",
    "    axis_vd = ax.get_axis(approval, ax.voter_deletion)\n",
    "    ax.print_order(axis_vd[0][0], cands_name)\n",
    "    print(axis_vd[0][1],len(axis_vd))\n",
    "    ax.print_order(axis_vd[0][0], [str(s[4])[:3] for s in sushi_infos])"
   ]
  },
  {
   "cell_type": "code",
   "execution_count": 56,
   "metadata": {},
   "outputs": [
    {
     "data": {
      "image/png": "[encoded data removed]",
      "text/plain": [
       "<Figure size 432x288 with 1 Axes>"
      ]
     },
     "metadata": {
      "needs_background": "light"
     },
     "output_type": "display_data"
    }
   ],
   "source": [
    "plt.bar(range(10),[2.2,1.2,1.7 ,3.7, 2.7, 2.6, 2.3, 0.8 ,0.9 ,0.5],color=\"k\", alpha=0.8)\n",
    "plt.xticks([0,4,9],[\"left\", \"center\", \"right\"])\n",
    "plt.title(\"oiliness score\")\n",
    "tikzplotlib.save(\"sushi_oiliness.tex\")\n",
    "plt.show()"
   ]
  },
  {
   "cell_type": "code",
   "execution_count": 40,
   "metadata": {},
   "outputs": [],
   "source": [
    "n_approved= 4\n",
    "n_voters, n_cands = sushi.shape\n",
    "approval = np.zeros((n_voters, n_cands))\n",
    "for i in range(n_voters):\n",
    "    for j in range(n_approved):\n",
    "        approval[i, sushi[i,j]-1] = 1\n",
    "\n",
    "\n",
    "\n",
    "axis_vd = ax.get_axis(approval, ax.voter_deletion)"
   ]
  },
  {
   "cell_type": "code",
   "execution_count": 53,
   "metadata": {},
   "outputs": [
    {
     "data": {
      "image/png": "[encoded data removed]",
      "text/plain": [
       "<Figure size 432x288 with 1 Axes>"
      ]
     },
     "metadata": {
      "needs_background": "light"
     },
     "output_type": "display_data"
    }
   ],
   "source": [
    "\n",
    "plt.bar(range(10),[approval[:,i].sum() for i in axis_vd[0][0]],color='k', alpha=0.8)\n",
    "plt.title(\"Approval score\")\n",
    "plt.xticks([0,4,9],[\"left\", \"center\", \"right\"])\n",
    "tikzplotlib.save(\"sushi_approval.tex\")\n",
    "plt.show()"
   ]
  },
  {
   "cell_type": "code",
   "execution_count": 42,
   "metadata": {},
   "outputs": [
    {
     "name": "stdout",
     "output_type": "stream",
     "text": [
      "BC 2\n",
      "tekka_maki < ikura < maguro < kappa_maki < ebi < anago < tamago < ika < uni < toro\n",
      "6569.0 1\n",
      "2.2 < 1.2 < 1.7 < 3.7 < 2.7 < 0.9 < 2.3 < 2.6 < 0.8 < 0.5\n",
      "BC 3\n",
      "tekka_maki < ikura < maguro < kappa_maki < ebi < anago < tamago < ika < uni < toro\n",
      "9330.0 1\n",
      "2.2 < 1.2 < 1.7 < 3.7 < 2.7 < 0.9 < 2.3 < 2.6 < 0.8 < 0.5\n",
      "BC 4\n",
      "tekka_maki < ikura < maguro < kappa_maki < ebi < tamago < anago < uni < ika < toro\n",
      "10259.0 1\n",
      "2.2 < 1.2 < 1.7 < 3.7 < 2.7 < 2.3 < 0.9 < 0.8 < 2.6 < 0.5\n",
      "BC 5\n",
      "tekka_maki < ikura < toro < maguro < kappa_maki < anago < tamago < ebi < uni < ika\n",
      "10122.0 1\n",
      "2.2 < 1.2 < 0.5 < 1.7 < 3.7 < 0.9 < 2.3 < 2.7 < 0.8 < 2.6\n",
      "BC 6\n",
      "tekka_maki < ikura < toro < maguro < kappa_maki < anago < tamago < ebi < uni < ika\n",
      "8602.0 2\n",
      "2.2 < 1.2 < 0.5 < 1.7 < 3.7 < 0.9 < 2.3 < 2.7 < 0.8 < 2.6\n"
     ]
    }
   ],
   "source": [
    "for n_approved in range(2,7):\n",
    "    n_voters, n_cands = sushi.shape\n",
    "    approval = np.zeros((n_voters, n_cands))\n",
    "    for i in range(n_voters):\n",
    "        for j in range(n_approved):\n",
    "            approval[i, sushi[i,j]-1] = 1\n",
    "\n",
    "    print(\"BC\", n_approved)\n",
    "    axis_bc = ax.get_axis(approval, ax.ballot_completion)\n",
    "    ax.print_order(axis_bc[0][0], cands_name)\n",
    "    print(axis_bc[0][1],len(axis_bc))\n",
    "    ax.print_order(axis_bc[0][0], [str(s[4])[:3] for s in sushi_infos])"
   ]
  },
  {
   "cell_type": "code",
   "execution_count": 48,
   "metadata": {},
   "outputs": [
    {
     "name": "stdout",
     "output_type": "stream",
     "text": [
      "uni < ika < ebi < toro < tamago < anago < tekka_maki < ikura < kappa_maki < maguro\n",
      "3176.0 2\n",
      "0.8 < 2.6 < 2.7 < 0.5 < 2.3 < 0.9 < 2.2 < 1.2 < 3.7 < 1.7\n"
     ]
    }
   ],
   "source": [
    "n_approved= 4\n",
    "n_voters, n_cands = sushi.shape\n",
    "approval = np.zeros((n_voters, n_cands))\n",
    "for i in range(n_voters):\n",
    "    for j in range(n_approved):\n",
    "        approval[i, sushi[i,j]-1] = 1\n",
    "        \n",
    "\n",
    "scores = ax.compute_scores(approval)\n",
    "axis_vd_th = ax.get_axis(approval, ax.create_voter_deletion_alpha(scores))\n",
    "ax.print_order(axis_vd_th[0][0], cands_name)\n",
    "print(axis_vd_th[0][1],len(axis_bc))\n",
    "ax.print_order(axis_vd_th[0][0], [str(s[4])[:3] for s in sushi_infos])"
   ]
  },
  {
   "cell_type": "code",
   "execution_count": 49,
   "metadata": {},
   "outputs": [
    {
     "name": "stdout",
     "output_type": "stream",
     "text": [
      "ika < uni < ebi < tamago < ikura < tekka_maki < toro < anago < maguro < kappa_maki\n",
      "6387.0 2\n",
      "2.6 < 0.8 < 2.7 < 2.3 < 1.2 < 2.2 < 0.5 < 0.9 < 1.7 < 3.7\n"
     ]
    }
   ],
   "source": [
    "n_approved= 4\n",
    "n_voters, n_cands = sushi.shape\n",
    "approval = np.zeros((n_voters, n_cands))\n",
    "for i in range(n_voters):\n",
    "    for j in range(n_approved):\n",
    "        approval[i, sushi[i,j]-1] = 1\n",
    "        \n",
    "\n",
    "scores = ax.compute_scores(approval)\n",
    "axis_vd_th = ax.get_axis(approval, ax.create_ballot_completion_alpha(scores))\n",
    "ax.print_order(axis_vd_th[0][0], cands_name)\n",
    "print(axis_vd_th[0][1],len(axis_bc))\n",
    "ax.print_order(axis_vd_th[0][0], [str(s[4])[:3] for s in sushi_infos])"
   ]
  },
  {
   "cell_type": "code",
   "execution_count": null,
   "metadata": {},
   "outputs": [],
   "source": []
  }
 ],
 "metadata": {
  "kernelspec": {
   "display_name": "base",
   "language": "python",
   "name": "python3"
  },
  "language_info": {
   "codemirror_mode": {
    "name": "ipython",
    "version": 3
   },
   "file_extension": ".py",
   "mimetype": "text/x-python",
   "name": "python",
   "nbconvert_exporter": "python",
   "pygments_lexer": "ipython3",
   "version": "3.9.7"
  },
  "orig_nbformat": 4
 },
 "nbformat": 4,
 "nbformat_minor": 2
}
